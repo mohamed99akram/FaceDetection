{
 "cells": [
  {
   "cell_type": "code",
   "execution_count": 1,
   "metadata": {},
   "outputs": [],
   "source": [
    "import numpy as np\n",
    "from matplotlib import pyplot as plt\n",
    "import time"
   ]
  },
  {
   "cell_type": "code",
   "execution_count": 11,
   "metadata": {},
   "outputs": [],
   "source": [
    "# n_features = 16000\n",
    "# n_samples = 15000\n",
    "n_features = 2\n",
    "n_samples = 10\n",
    "n_classes = 2\n",
    "X = np.random.randn(n_features, n_samples)\n",
    "y = np.random.randint(0, n_classes, n_samples)\n",
    "y = np.array([1 if i == 1 else -1 for i in y])\n",
    "weights = np.random.randn(n_samples)\n"
   ]
  },
  {
   "attachments": {},
   "cell_type": "markdown",
   "metadata": {},
   "source": [
    "# Their method"
   ]
  },
  {
   "cell_type": "code",
   "execution_count": 12,
   "metadata": {},
   "outputs": [
    {
     "name": "stdout",
     "output_type": "stream",
     "text": [
      "Time taken: 0.000314 seconds\n"
     ]
    }
   ],
   "source": [
    "s_t = time.time()\n",
    "\n",
    "total_pos, total_neg = 0, 0\n",
    "for w, label in zip(weights, y):\n",
    "    if label == 1:\n",
    "        total_pos += w\n",
    "    else:\n",
    "        total_neg += w\n",
    "\n",
    "classifiers = []\n",
    "total_features = X.shape[0]\n",
    "for index, feature in enumerate(X):\n",
    "    if len(classifiers) % 1000 == 0 and len(classifiers) != 0:\n",
    "        print(\"Trained %d classifiers out of %d\" % (len(classifiers), total_features))\n",
    "\n",
    "    applied_feature = sorted(zip(weights, feature, y), key=lambda x: x[1])\n",
    "\n",
    "    pos_seen, neg_seen = 0, 0\n",
    "    pos_weights, neg_weights = 0, 0\n",
    "    min_error, best_feature, best_threshold, best_polarity = float('inf'), None, None, None\n",
    "    current_idx = 0\n",
    "    for w, f, label in applied_feature:\n",
    "        # min(all before current example are positive and all after are negative, all before current example are negative and all after are positive)\n",
    "        # error = sum of weights of misclassified examples\n",
    "        error = min(neg_weights + total_pos - pos_weights, pos_weights + total_neg - neg_weights)\n",
    "        if error < min_error:\n",
    "            min_error = error\n",
    "            # best_feature = features[index]\n",
    "            best_feature = (current_idx, f)\n",
    "            current_idx += 1\n",
    "            best_threshold = f\n",
    "            best_polarity = 1 if pos_seen > neg_seen else -1\n",
    "\n",
    "        if label == 1:\n",
    "            pos_seen += 1\n",
    "            pos_weights += w\n",
    "        else:\n",
    "            neg_seen += 1\n",
    "            neg_weights += w\n",
    "    \n",
    "    # clf = WeakClassifier(best_feature[0], best_feature[1], best_threshold, best_polarity)\n",
    "    clf = best_feature, best_threshold, best_polarity, min_error\n",
    "    classifiers.append(clf)\n",
    "\n",
    "print(\"Time taken: %f seconds\" % (time.time() - s_t))"
   ]
  },
  {
   "attachments": {},
   "cell_type": "markdown",
   "metadata": {},
   "source": [
    "# Mine"
   ]
  },
  {
   "cell_type": "code",
   "execution_count": 13,
   "metadata": {},
   "outputs": [
    {
     "name": "stdout",
     "output_type": "stream",
     "text": [
      "Time taken: 0.000573 seconds\n"
     ]
    }
   ],
   "source": [
    "s_t = time.time()\n",
    "classifiers2 = []\n",
    "total_features2 = X.shape[0]\n",
    "# TODO parallize this\n",
    "for index, feature in enumerate(X):\n",
    "    if len(classifiers2) % 1000 == 0 and len(classifiers2) != 0:\n",
    "        print(\"Trained %d classifiers out of %d\" % (len(classifiers2), total_features2))\n",
    "        \n",
    "    pos_weights, neg_weights = 0, 0\n",
    "    min_error, best_feature, best_threshold, best_polarity = float('inf'), None, None, None\n",
    "\n",
    "    # sort by feature value first, then by weight, then by label\n",
    "    sorting_indecies = np.lexsort((y, weights, feature))\n",
    "    \n",
    "    # s_w: srorted weights, s_f: sorted features, s_y: sorted labels\n",
    "    s_w, s_f, s_y = weights[sorting_indecies], feature[sorting_indecies], y[sorting_indecies]\n",
    "\n",
    "    ## left = -1, right = 1\n",
    "    # negative weights\n",
    "    neg_weights = np.cumsum(s_w * (s_y == -1))\n",
    "    # positive weights (reversed)\n",
    "    pos_weights = np.flip(np.cumsum(np.flip(s_w * (s_y == 1))))\n",
    "    pos_weights2 = np.concatenate((pos_weights[1:], [0]))\n",
    "    \n",
    "    idx1 = np.argmin(neg_weights + pos_weights2)\n",
    "    \n",
    "    min_error1 = neg_weights[idx1] + pos_weights2[idx1]\n",
    "    # best_feature1 = (idx1, s_f[idx1])\n",
    "    # best_threshold1 = s_f[idx1]\n",
    "    try:best_threshold1 = s_f[idx1+1], best_feature1 = (idx1, s_f[idx1+1])\n",
    "    except:best_threshold1 = s_f[idx1], best_feature1 = (idx1, s_f[idx1])\n",
    "    \n",
    "    ## left = 1, right = -1\n",
    "    # repeat for s_y ==1, s_y == 1\n",
    "    neg_weights_rl = np.flip(np.cumsum(np.flip(s_w * (s_y == -1))))\n",
    "    neg_weights_rl = np.concatenate((neg_weights_rl[1:], [0]))\n",
    "    pos_weights_rl = np.cumsum(s_w * (s_y == 1))\n",
    "\n",
    "    idx2 = np.argmin(neg_weights_rl + pos_weights_rl)\n",
    "    min_error2 = neg_weights_rl[idx2] + pos_weights_rl[idx2]\n",
    "    # best_feature2 = (idx2, feature2[idx2])\n",
    "    # best_threshold2 = feature2[idx2]\n",
    "    try:best_threshold2 = s_f[idx2+1], best_feature2 = (idx2, s_f[idx2+1])\n",
    "    except:best_threshold2 = s_f[idx2], best_feature2 = (idx2, s_f[idx2])\n",
    "\n",
    "    if min_error1 < min_error2:\n",
    "        min_error = min_error1\n",
    "        best_feature = best_feature1\n",
    "        best_threshold = best_threshold1\n",
    "        best_polarity = -1\n",
    "    else:\n",
    "        min_error = min_error2\n",
    "        best_feature = best_feature2\n",
    "        best_threshold = best_threshold2\n",
    "        best_polarity = 1\n",
    "\n",
    "    clf2 = best_feature, best_threshold, best_polarity, min_error\n",
    "    classifiers2.append(clf2)\n",
    "\n",
    "    \n",
    "\n",
    "print(\"Time taken: %f seconds\" % (time.time() - s_t))"
   ]
  },
  {
   "cell_type": "code",
   "execution_count": 14,
   "metadata": {},
   "outputs": [
    {
     "name": "stdout",
     "output_type": "stream",
     "text": [
      "((3, 1.6154135590639638), 1.6154135590639638, 1, -1.711756830617832)\n",
      "(1.6154135590639638, (8, 1.6154135590639638), -1, -1.711756830617832)\n"
     ]
    }
   ],
   "source": [
    "# for el in classifiers:\n",
    "#     print(el)\n",
    "# print()\n",
    "# for el in classifiers2:\n",
    "#     print(el)\n",
    "\n",
    "print(classifiers[0])\n",
    "print(classifiers2[0])"
   ]
  },
  {
   "cell_type": "code",
   "execution_count": null,
   "metadata": {},
   "outputs": [],
   "source": []
  }
 ],
 "metadata": {
  "kernelspec": {
   "display_name": "Python 3",
   "language": "python",
   "name": "python3"
  },
  "language_info": {
   "codemirror_mode": {
    "name": "ipython",
    "version": 3
   },
   "file_extension": ".py",
   "mimetype": "text/x-python",
   "name": "python",
   "nbconvert_exporter": "python",
   "pygments_lexer": "ipython3",
   "version": "3.10.6"
  },
  "orig_nbformat": 4
 },
 "nbformat": 4,
 "nbformat_minor": 2
}
