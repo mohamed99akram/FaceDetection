{
 "cells": [
  {
   "cell_type": "code",
   "execution_count": 1,
   "metadata": {},
   "outputs": [],
   "source": [
    "import numpy as np\n",
    "from matplotlib import pyplot as plt\n",
    "import time"
   ]
  },
  {
   "cell_type": "code",
   "execution_count": 21,
   "metadata": {},
   "outputs": [],
   "source": [
    "# n_features = 16000\n",
    "# n_samples = 15000\n",
    "n_features = 3\n",
    "n_samples = 10\n",
    "n_classes = 2\n",
    "X = np.random.randn(n_features, n_samples)\n",
    "y = np.random.randint(0, n_classes, n_samples)\n",
    "y = np.array([1 if i == 1 else -1 for i in y])\n",
    "weights = np.random.randn(n_samples)\n"
   ]
  },
  {
   "attachments": {},
   "cell_type": "markdown",
   "metadata": {},
   "source": [
    "# Their method"
   ]
  },
  {
   "cell_type": "code",
   "execution_count": 29,
   "metadata": {},
   "outputs": [
    {
     "name": "stdout",
     "output_type": "stream",
     "text": [
      "[-0.39478424  0.50175924 -0.34804908  1.01640906 -0.98496301 -0.72845011\n",
      " -1.24018802  1.45116244 -0.19054711  0.29741805]\n",
      "[ 0.50175924 -0.34804908 -0.72845011 -1.24018802  0.29741805  1.01640906\n",
      " -0.39478424 -0.19054711  1.45116244 -0.98496301]\n",
      "[-1.24018802 -0.39478424  1.45116244 -0.98496301  0.29741805 -0.19054711\n",
      "  0.50175924 -0.72845011  1.01640906 -0.34804908]\n",
      "Time taken: 0.001689 seconds\n"
     ]
    }
   ],
   "source": [
    "s_t = time.time()\n",
    "\n",
    "total_pos, total_neg = 0, 0\n",
    "for w, label in zip(weights, y):\n",
    "    if label == 1:\n",
    "        total_pos += w\n",
    "    else:\n",
    "        total_neg += w\n",
    "\n",
    "classifiers = []\n",
    "total_features = X.shape[0]\n",
    "for index, feature in enumerate(X):\n",
    "    if len(classifiers) % 1000 == 0 and len(classifiers) != 0:\n",
    "        print(\"Trained %d classifiers out of %d\" % (len(classifiers), total_features))\n",
    "\n",
    "    applied_feature = sorted(zip(weights, feature, y), key=lambda x: x[1])\n",
    "\n",
    "    pos_seen, neg_seen = 0, 0\n",
    "    pos_weights, neg_weights = 0, 0\n",
    "    min_error, best_feature, best_threshold, best_polarity = float('inf'), None, None, None\n",
    "    current_idx = 0\n",
    "    ws = []\n",
    "    for w, f, label in applied_feature:\n",
    "        ws.append(w)\n",
    "        # min(all before current example are positive and all after are negative, all before current example are negative and all after are positive)\n",
    "        # error = sum of weights of misclassified examples\n",
    "        error = min(neg_weights + total_pos - pos_weights, pos_weights + total_neg - neg_weights)\n",
    "        if error < min_error:\n",
    "            min_error = error\n",
    "            # best_feature = features[index]\n",
    "            best_feature = (current_idx, f)\n",
    "            best_threshold = f\n",
    "            best_polarity = 1 if pos_seen > neg_seen else -1\n",
    "\n",
    "        if label == 1:\n",
    "            pos_seen += 1\n",
    "            pos_weights += w\n",
    "        else:\n",
    "            neg_seen += 1\n",
    "            neg_weights += w\n",
    "        current_idx += 1\n",
    "\n",
    "    print(np.array(ws))\n",
    "\n",
    "    # clf = WeakClassifier(best_feature[0], best_feature[1], best_threshold, best_polarity)\n",
    "    clf = best_feature, best_threshold, best_polarity, min_error\n",
    "    classifiers.append(clf)\n",
    "\n",
    "print(\"Time taken: %f seconds\" % (time.time() - s_t))"
   ]
  },
  {
   "attachments": {},
   "cell_type": "markdown",
   "metadata": {},
   "source": [
    "# Mine"
   ]
  },
  {
   "cell_type": "code",
   "execution_count": 30,
   "metadata": {},
   "outputs": [
    {
     "name": "stdout",
     "output_type": "stream",
     "text": [
      "[ 0.47781287  0.08302862  0.58478787  0.93283694 -0.08357212 -1.06853513\n",
      " -1.79698524 -3.03717326 -1.58601082 -1.3954637  -1.09804565] idx1 =  7, [-1.09804565 -0.70326141 -1.20502065 -1.55306972 -0.53666066  0.44830235\n",
      "  1.17675246  2.41694048  0.96577804  0.77523092  0.47781287] idx2 =  3\n",
      "[ 0.47781287  0.97957211  1.32762118  0.59917107 -0.64101694 -0.34359889\n",
      " -1.36000795 -1.75479219 -1.56424508 -0.11308264 -1.09804565] idx1 =  7, [-1.09804565 -1.59980489 -1.94785397 -1.21940385  0.02078416 -0.27663389\n",
      "  0.73977517  1.13455941  0.9440123  -0.50715014  0.47781287] idx2 =  2\n",
      "[ 0.47781287 -0.76237515 -1.15715939  0.29400305 -0.69095996 -0.39354191\n",
      " -0.2029948   0.29876444 -0.42968567 -1.44609473 -1.09804565] idx1 =  9, [-1.09804565  0.14214237  0.53692661 -0.91423583  0.07072718 -0.22669087\n",
      " -0.41723799 -0.91899723 -0.19054711  0.82586194  0.47781287] idx2 =  0\n",
      "Time taken: 0.003990 seconds\n"
     ]
    }
   ],
   "source": [
    "s_t = time.time()\n",
    "classifiers2 = []\n",
    "total_features2 = X.shape[0]\n",
    "# TODO parallize this\n",
    "for index, feature in enumerate(X):\n",
    "    if len(classifiers2) % 1000 == 0 and len(classifiers2) != 0:\n",
    "        print(\"Trained %d classifiers out of %d\" % (len(classifiers2), total_features2))\n",
    "        \n",
    "    pos_weights, neg_weights = 0, 0\n",
    "    min_error, best_feature, best_threshold, best_polarity = float('inf'), None, None, None\n",
    "\n",
    "    # sort by feature value first, then by weight, then by label\n",
    "    sorting_indecies = np.lexsort((y, weights, feature))\n",
    "    \n",
    "    # s_w: srorted weights, s_f: sorted features, s_y: sorted labels\n",
    "    s_w, s_f, s_y = weights[sorting_indecies], feature[sorting_indecies], y[sorting_indecies]\n",
    "    # print(s_w)\n",
    "    ## left = -1, right = 1\n",
    "    # negative weights\n",
    "    neg_weights = np.concatenate(([0], np.cumsum(s_w * (s_y == -1))))\n",
    "    # positive weights (reversed)\n",
    "    pos_weights = np.flip(np.cumsum(np.flip(s_w * (s_y == 1))))\n",
    "    pos_weights2 = np.concatenate((pos_weights, [0]))\n",
    "    \n",
    "    idx1 = np.argmin(neg_weights + pos_weights2)\n",
    "    if idx1 > len(neg_weights) - 1:\n",
    "        idx1 = len(neg_weights) - 1\n",
    "    \n",
    "    min_error1 = neg_weights[idx1] + pos_weights2[idx1]\n",
    "\n",
    "    best_feature1, best_threshold1 = (idx1, s_f[idx1]), s_f[idx1]\n",
    "\n",
    "    ## left = 1, right = -1\n",
    "    # repeat for s_y ==1, s_y == 1\n",
    "    pos_weights_rl = np.concatenate(([0], np.cumsum(s_w * (s_y == 1))))\n",
    "\n",
    "    neg_weights_rl = np.flip(np.cumsum(np.flip(s_w * (s_y == -1))))\n",
    "    neg_weights_rl = np.concatenate((neg_weights_rl, [0]))\n",
    "    idx2 = np.argmin(neg_weights_rl + pos_weights_rl)\n",
    "    if idx2 > len(neg_weights_rl) - 1:\n",
    "        idx2 = len(neg_weights_rl) - 1\n",
    "    \n",
    "    min_error2 = neg_weights_rl[idx2] + pos_weights_rl[idx2]\n",
    "    print(neg_weights+ pos_weights2, 'idx1 = ', idx1, end=', ')\n",
    "    print(neg_weights_rl+ pos_weights_rl, 'idx2 = ', idx2)\n",
    "\n",
    "    best_feature2, best_threshold2 = (idx2, s_f[idx2]), s_f[idx2]\n",
    "    \n",
    "\n",
    "    if min_error1 < min_error2:\n",
    "        min_error = min_error1\n",
    "        best_feature = best_feature1\n",
    "        best_threshold = best_threshold1\n",
    "        best_polarity = -1\n",
    "    else:\n",
    "        min_error = min_error2\n",
    "        best_feature = best_feature2\n",
    "        best_threshold = best_threshold2\n",
    "        best_polarity = 1\n",
    "\n",
    "    clf2 = best_feature, best_threshold, best_polarity, min_error\n",
    "    classifiers2.append(clf2)\n",
    "\n",
    "    \n",
    "\n",
    "print(\"Time taken: %f seconds\" % (time.time() - s_t))"
   ]
  },
  {
   "cell_type": "code",
   "execution_count": 31,
   "metadata": {},
   "outputs": [
    {
     "name": "stdout",
     "output_type": "stream",
     "text": [
      "((7, 0.4388840700609143), 0.4388840700609143, -1, -3.0371732568983996)\n",
      "((2, 0.03704944486883128), 0.03704944486883128, -1, -1.947853965597011)\n",
      "((9, 1.588808849994089), 1.588808849994089, -1, -1.4460947254201173)\n",
      "\n",
      "((7, 0.4388840700609143), 0.4388840700609143, -1, -3.0371732568983996)\n",
      "((2, 0.03704944486883128), 0.03704944486883128, 1, -1.947853965597011)\n",
      "((9, 1.588808849994089), 1.588808849994089, -1, -1.4460947254201173)\n"
     ]
    }
   ],
   "source": [
    "for el in classifiers:\n",
    "    print(el)\n",
    "print()\n",
    "for el in classifiers2:\n",
    "    print(el)\n",
    "\n",
    "# print(classifiers[0])\n",
    "# print(classifiers2[0])"
   ]
  },
  {
   "cell_type": "code",
   "execution_count": null,
   "metadata": {},
   "outputs": [],
   "source": []
  }
 ],
 "metadata": {
  "kernelspec": {
   "display_name": "Python 3",
   "language": "python",
   "name": "python3"
  },
  "language_info": {
   "codemirror_mode": {
    "name": "ipython",
    "version": 3
   },
   "file_extension": ".py",
   "mimetype": "text/x-python",
   "name": "python",
   "nbconvert_exporter": "python",
   "pygments_lexer": "ipython3",
   "version": "3.10.6"
  },
  "orig_nbformat": 4
 },
 "nbformat": 4,
 "nbformat_minor": 2
}
