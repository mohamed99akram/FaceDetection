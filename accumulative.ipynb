{
 "cells": [
  {
   "cell_type": "code",
   "execution_count": 1,
   "metadata": {},
   "outputs": [],
   "source": [
    "import numpy as np\n",
    "from matplotlib import pyplot as plt\n",
    "import time"
   ]
  },
  {
   "cell_type": "code",
   "execution_count": 21,
   "metadata": {},
   "outputs": [],
   "source": [
    "# n_features = 16000\n",
    "# n_samples = 15000\n",
    "n_features = 3\n",
    "n_samples = 10\n",
    "n_classes = 2\n",
    "X = np.random.randn(n_features, n_samples)\n",
    "y = np.random.randint(0, n_classes, n_samples)\n",
    "y = np.array([1 if i == 1 else -1 for i in y])\n",
    "weights = np.random.randn(n_samples)\n"
   ]
  },
  {
   "attachments": {},
   "cell_type": "markdown",
   "metadata": {},
   "source": [
    "# Their method"
   ]
  },
  {
   "cell_type": "code",
   "execution_count": 59,
   "metadata": {},
   "outputs": [
    {
     "name": "stdout",
     "output_type": "stream",
     "text": [
      "pos_seen_list :  [(0, 0), (1, 0), (2, 1), (3, 2), (4, 2), (5, 2), (6, 2), (7, 2), (8, 3), (9, 3)]\n",
      "best_feature[0]:  7\n",
      "last error:    -1.3954637033063257 min error:   -3.0371732568983996\n",
      "pos_seen_list :  [(0, 0), (1, 1), (2, 1), (3, 1), (4, 1), (5, 2), (6, 2), (7, 3), (8, 3), (9, 3)]\n",
      "best_feature[0]:  2\n",
      "last error:    -0.5071501435293333 min error:   -1.947853965597011\n",
      "pos_seen_list :  [(0, 0), (1, 0), (2, 0), (3, 0), (4, 0), (5, 1), (6, 1), (7, 1), (8, 2), (9, 3)]\n",
      "best_feature[0]:  9\n",
      "last error:    -1.4460947254201173 min error:   -1.4460947254201173\n",
      "Time taken: 0.002145 seconds\n"
     ]
    }
   ],
   "source": [
    "s_t = time.time()\n",
    "\n",
    "total_pos, total_neg = 0, 0\n",
    "for w, label in zip(weights, y):\n",
    "    if label == 1:\n",
    "        total_pos += w\n",
    "    else:\n",
    "        total_neg += w\n",
    "\n",
    "classifiers = []\n",
    "total_features = X.shape[0]\n",
    "for index, feature in enumerate(X):\n",
    "    if len(classifiers) % 1000 == 0 and len(classifiers) != 0:\n",
    "        print(\"Trained %d classifiers out of %d\" % (len(classifiers), total_features))\n",
    "\n",
    "    applied_feature = sorted(zip(weights, feature, y), key=lambda x: x[1])\n",
    "\n",
    "    pos_seen, neg_seen = 0, 0\n",
    "    pos_weights, neg_weights = 0, 0\n",
    "    min_error, best_feature, best_threshold, best_polarity = float('inf'), None, None, None\n",
    "    current_idx = 0\n",
    "    ws = []\n",
    "    last_error = 0\n",
    "    pos_seen_list = []\n",
    "    for w, f, label in applied_feature:\n",
    "        ws.append(w)\n",
    "        # min(all before current example are positive and all after are negative, all before current example are negative and all after are positive)\n",
    "        # error = sum of weights of misclassified examples\n",
    "        # print(\"error1 : \", neg_weights + total_pos - pos_weights, \", error2 : \", pos_weights + total_neg - neg_weights, end=',  ')\n",
    "        error = min(neg_weights + total_pos - pos_weights, pos_weights + total_neg - neg_weights)\n",
    "        last_error = error\n",
    "        # print(\"error : \", error)\n",
    "        if error < min_error:\n",
    "            min_error = error\n",
    "            # best_feature = features[index]\n",
    "            best_feature = (current_idx, f)\n",
    "            best_threshold = f\n",
    "            best_polarity = 1 if pos_seen > neg_seen else -1\n",
    "\n",
    "        if label == 1:\n",
    "            pos_seen += 1\n",
    "            pos_weights += w\n",
    "        else:\n",
    "            neg_seen += 1\n",
    "            neg_weights += w\n",
    "        current_idx += 1\n",
    "        pos_seen_list.append(pos_seen)\n",
    "    # print(\"pos_seen_list : \", list(enumerate(pos_seen_list)))\n",
    "    # print('best_feature[0]: ', best_feature[0])\n",
    "    # print('last error:   ', last_error, 'min error:  ', min_error)\n",
    "\n",
    "    # clf = WeakClassifier(best_feature[0], best_feature[1], best_threshold, best_polarity)\n",
    "    clf = best_feature, best_threshold, best_polarity, min_error\n",
    "    classifiers.append(clf)\n",
    "\n",
    "print(\"Time taken: %f seconds\" % (time.time() - s_t))"
   ]
  },
  {
   "attachments": {},
   "cell_type": "markdown",
   "metadata": {},
   "source": [
    "# Mine\n",
    "\n",
    "<h3>\n",
    "<div style='color: red;'>\n",
    "Question: for the polarity:<br>\n",
    " Direction that gives minimum weights <span style='color:pink'> -> To be consistent with finding minimum error using weights</span><br> \n",
    "    or<br>\n",
    " Direction that gives less misclassified samples???? <span style='color:pink'> -> To find threshold giving better accuracy???</span></div>\n",
    "</h3>"
   ]
  },
  {
   "cell_type": "code",
   "execution_count": 52,
   "metadata": {},
   "outputs": [
    {
     "name": "stdout",
     "output_type": "stream",
     "text": [
      "error1 :  -3.0371732568983996 , error2 :  -1.5530697218973466,  error :  -3.0371732568983996\n",
      "error1 :  -1.7547921911517586 , error2 :  -1.947853965597011,  error :  -1.947853965597011\n",
      "error1 :  -1.4460947254201173 , error2 :  -1.0980456496607842,  error :  -1.4460947254201173\n",
      "Time taken: 0.001290 seconds\n"
     ]
    }
   ],
   "source": [
    "s_t = time.time()\n",
    "classifiers2 = []\n",
    "total_features2 = X.shape[0]\n",
    "# TODO parallize this\n",
    "# TODO can we get rid of this loop and make them matrices?\n",
    "for index, feature in enumerate(X):\n",
    "    if len(classifiers2) % 1000 == 0 and len(classifiers2) != 0:\n",
    "        print(\"Trained %d classifiers out of %d\" % (len(classifiers2), total_features2))\n",
    "        \n",
    "    pos_weights, neg_weights = 0, 0\n",
    "    min_error, best_feature, best_threshold, best_polarity = float('inf'), None, None, None\n",
    "\n",
    "    # sort by feature value first, then by weight, then by label\n",
    "    sorting_indecies = np.lexsort((y, weights, feature))\n",
    "    \n",
    "    # s_w: srorted weights, s_f: sorted features, s_y: sorted labels\n",
    "    s_w, s_f, s_y = weights[sorting_indecies], feature[sorting_indecies], y[sorting_indecies]\n",
    "    # print(s_w)\n",
    "    ## left = -1, right = 1\n",
    "    # negative weights\n",
    "    neg_weights = np.concatenate(([0], np.cumsum(s_w * (s_y == -1))))\n",
    "    # positive weights (reversed)\n",
    "    pos_weights = np.flip(np.cumsum(np.flip(s_w * (s_y == 1))))\n",
    "    pos_weights2 = np.concatenate((pos_weights, [0]))\n",
    "    \n",
    "    idx1 = np.argmin(neg_weights + pos_weights2)\n",
    "    if idx1 > len(neg_weights) - 1:\n",
    "        idx1 = len(neg_weights) - 1\n",
    "    \n",
    "    min_error1 = neg_weights[idx1] + pos_weights2[idx1]\n",
    "\n",
    "    best_feature1, best_threshold1 = (idx1, s_f[idx1]), s_f[idx1]\n",
    "\n",
    "    ## left = 1, right = -1\n",
    "    # repeat for s_y ==1, s_y == 1\n",
    "    pos_weights_rl = np.concatenate(([0], np.cumsum(s_w * (s_y == 1))))\n",
    "\n",
    "    neg_weights_rl = np.flip(np.cumsum(np.flip(s_w * (s_y == -1))))\n",
    "    neg_weights_rl = np.concatenate((neg_weights_rl, [0]))\n",
    "    idx2 = np.argmin(neg_weights_rl + pos_weights_rl)\n",
    "    if idx2 > len(neg_weights_rl) - 1:\n",
    "        idx2 = len(neg_weights_rl) - 1\n",
    "    \n",
    "    min_error2 = neg_weights_rl[idx2] + pos_weights_rl[idx2]\n",
    "\n",
    "    best_feature2, best_threshold2 = (idx2, s_f[idx2]), s_f[idx2]\n",
    "\n",
    "\n",
    "    # print(\"error1 : \", min_error1, \", error2 : \", min_error2, end=',  ')\n",
    "    # print(\"error : \", min(min_error1, min_error2))\n",
    "    if min_error1 < min_error2:\n",
    "        min_error = min_error1\n",
    "        best_feature = best_feature1\n",
    "        best_threshold = best_threshold1\n",
    "        #@ wrong, should be number of true predictions, not weights??\n",
    "        best_polarity = -1\n",
    "    else:\n",
    "        min_error = min_error2\n",
    "        best_feature = best_feature2\n",
    "        best_threshold = best_threshold2\n",
    "        best_polarity = 1\n",
    "\n",
    "    clf2 = best_feature, best_threshold, best_polarity, min_error\n",
    "    classifiers2.append(clf2)\n",
    "\n",
    "    \n",
    "\n",
    "print(\"Time taken: %f seconds\" % (time.time() - s_t))"
   ]
  },
  {
   "cell_type": "code",
   "execution_count": 53,
   "metadata": {},
   "outputs": [
    {
     "name": "stdout",
     "output_type": "stream",
     "text": [
      "((7, 0.4388840700609143), 0.4388840700609143, -1, -3.0371732568983996)\n",
      "((2, 0.03704944486883128), 0.03704944486883128, -1, -1.947853965597011)\n",
      "((9, 1.588808849994089), 1.588808849994089, -1, -1.4460947254201173)\n",
      "\n",
      "((7, 0.4388840700609143), 0.4388840700609143, -1, -3.0371732568983996)\n",
      "((2, 0.03704944486883128), 0.03704944486883128, 1, -1.947853965597011)\n",
      "((9, 1.588808849994089), 1.588808849994089, -1, -1.4460947254201173)\n"
     ]
    },
    {
     "data": {
      "text/plain": [
       "False"
      ]
     },
     "execution_count": 53,
     "metadata": {},
     "output_type": "execute_result"
    }
   ],
   "source": [
    "for el in classifiers:\n",
    "    print(el)\n",
    "print()\n",
    "for el in classifiers2:\n",
    "    print(el)\n",
    "classifiers==classifiers2\n",
    "# print(classifiers[0])\n",
    "# print(classifiers2[0])"
   ]
  },
  {
   "cell_type": "code",
   "execution_count": 42,
   "metadata": {},
   "outputs": [
    {
     "name": "stdout",
     "output_type": "stream",
     "text": [
      "[-1.]\n",
      "[1.]\n"
     ]
    }
   ],
   "source": [
    "a1 = np.zeros((len(classifiers), 5))\n",
    "for i in range(len(classifiers)):\n",
    "    a1[i] = np.array([*classifiers[i][0], classifiers[i][1], classifiers[i][2], classifiers[i][3]])\n",
    "\n",
    "a2 = np.zeros((len(classifiers2), 5))\n",
    "for i in range(len(classifiers2)):\n",
    "    a2[i] = np.array([*classifiers2[i][0], classifiers2[i][1], classifiers2[i][2], classifiers2[i][3]])\n",
    "\n",
    "classifiers\n",
    "print(a1[a1!=a2])\n",
    "print(a2[a1!=a2])"
   ]
  },
  {
   "cell_type": "code",
   "execution_count": null,
   "metadata": {},
   "outputs": [],
   "source": []
  }
 ],
 "metadata": {
  "kernelspec": {
   "display_name": "Python 3",
   "language": "python",
   "name": "python3"
  },
  "language_info": {
   "codemirror_mode": {
    "name": "ipython",
    "version": 3
   },
   "file_extension": ".py",
   "mimetype": "text/x-python",
   "name": "python",
   "nbconvert_exporter": "python",
   "pygments_lexer": "ipython3",
   "version": "3.10.6"
  },
  "orig_nbformat": 4
 },
 "nbformat": 4,
 "nbformat_minor": 2
}
