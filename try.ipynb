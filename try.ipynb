{
 "cells": [
  {
   "cell_type": "code",
   "execution_count": 1,
   "metadata": {},
   "outputs": [],
   "source": [
    "import numpy as np\n",
    "from matplotlib import pyplot as plt\n",
    "import time\n",
    "import torch\n",
    "from torch.utils.data import Dataset\n",
    "from torch.utils.data import DataLoader\n",
    "from accumulative import WeakClassifier, OneClassifier"
   ]
  },
  {
   "cell_type": "code",
   "execution_count": 2,
   "metadata": {},
   "outputs": [
    {
     "data": {
      "text/plain": [
       "True"
      ]
     },
     "execution_count": 2,
     "metadata": {},
     "output_type": "execute_result"
    }
   ],
   "source": [
    "device = torch.device(\"cuda:0\" if torch.cuda.is_available() else \"cpu\")\n",
    "torch.cuda.is_available()"
   ]
  },
  {
   "cell_type": "code",
   "execution_count": 3,
   "metadata": {},
   "outputs": [
    {
     "name": "stdout",
     "output_type": "stream",
     "text": [
      "tensor([[0.0645, 0.6271, 0.4939, 0.6220, 0.7626, 0.4128, 0.3703],\n",
      "        [0.2613, 0.0899, 0.3767, 0.9425, 0.2382, 0.0063, 0.9106],\n",
      "        [0.9131, 0.7949, 0.6842, 0.6191, 0.8358, 0.8081, 0.8286],\n",
      "        [0.8500, 0.6134, 0.9678, 0.3525, 0.7533, 0.4834, 0.1398],\n",
      "        [0.7446, 0.3063, 0.5261, 0.1946, 0.8382, 0.8762, 0.4083],\n",
      "        [0.1185, 0.3447, 0.5901, 0.6885, 0.1814, 0.5347, 0.9741],\n",
      "        [0.6718, 0.3011, 0.4871, 0.0538, 0.5333, 0.4042, 0.2973]])\n",
      "tensor([[0., 1., 0., 1., 1., 0., 0.],\n",
      "        [0., 0., 0., 1., 0., 0., 1.],\n",
      "        [1., 1., 1., 1., 1., 1., 1.],\n",
      "        [1., 1., 1., 0., 1., 0., 0.],\n",
      "        [1., 0., 1., 0., 1., 1., 0.],\n",
      "        [0., 0., 1., 1., 0., 1., 1.],\n",
      "        [1., 0., 0., 0., 1., 0., 0.]])\n"
     ]
    }
   ],
   "source": [
    "t = torch.rand(7,7)\n",
    "print(t)\n",
    "t2 = torch.where(t>0.5, torch.tensor(1.0), torch.tensor(0.0))\n",
    "print(t2)"
   ]
  },
  {
   "cell_type": "markdown",
   "metadata": {},
   "source": [
    "### getting argsort of argsort gives the original array"
   ]
  },
  {
   "cell_type": "code",
   "execution_count": 4,
   "metadata": {},
   "outputs": [
    {
     "name": "stdout",
     "output_type": "stream",
     "text": [
      "t =  tensor([[0, 1, 4, 8, 7],\n",
      "        [1, 7, 8, 3, 6],\n",
      "        [4, 1, 6, 2, 0],\n",
      "        [8, 2, 3, 7, 0],\n",
      "        [6, 9, 4, 8, 9]])\n",
      "i =  tensor([[0, 1, 2, 4, 3],\n",
      "        [0, 3, 4, 1, 2],\n",
      "        [4, 1, 3, 0, 2],\n",
      "        [4, 1, 2, 3, 0],\n",
      "        [2, 0, 3, 1, 4]])\n",
      "i[tmp,tmp2] =  tensor([[2],\n",
      "        [1],\n",
      "        [2],\n",
      "        [4],\n",
      "        [0]])\n",
      "tensor(True)\n",
      "target:  tensor([[4],\n",
      "        [7],\n",
      "        [6],\n",
      "        [0],\n",
      "        [6]])\n"
     ]
    }
   ],
   "source": [
    "t = torch.randint(0, 10, (5,5))\n",
    "tmp = torch.arange(len(t)).reshape(-1,1)\n",
    "print('t = ', t)\n",
    "\n",
    "i = torch.argsort(t, axis=1, stable=True) #@\n",
    "print('i = ', i)\n",
    "\n",
    "#@ resulting indecies\n",
    "tmp2 = torch.tensor([2,3,4,0,1]).reshape(-1, 1)\n",
    "print('i[tmp,tmp2] = ', i[tmp, tmp2])\n",
    "\n",
    "ii = torch.argsort(i, axis=1)\n",
    "# print('ii = ', ii)\n",
    "# print('t[tmp,i] = ', t[tmp, i])\n",
    "# print('t[tmp, i][tmp,i] = ', t[tmp, i][tmp,ii])\n",
    "print((t[tmp, i][tmp,ii]==t).all())\n",
    "\n",
    "#@ remap them to original array\n",
    "print('target: ', t[tmp,i[tmp,tmp2].reshape(-1,1)])\n",
    "\n",
    "# find index of value 0\n",
    "# idx = torch.where(i==0)\n",
    "# idx"
   ]
  }
 ],
 "metadata": {
  "kernelspec": {
   "display_name": "base",
   "language": "python",
   "name": "python3"
  },
  "language_info": {
   "codemirror_mode": {
    "name": "ipython",
    "version": 3
   },
   "file_extension": ".py",
   "mimetype": "text/x-python",
   "name": "python",
   "nbconvert_exporter": "python",
   "pygments_lexer": "ipython3",
   "version": "3.10.9"
  },
  "orig_nbformat": 4
 },
 "nbformat": 4,
 "nbformat_minor": 2
}
