{
 "cells": [
  {
   "cell_type": "code",
   "execution_count": 1,
   "metadata": {},
   "outputs": [],
   "source": [
    "import sys; sys.path.append('../')\n",
    "import numpy as np\n",
    "from matplotlib import pyplot as plt\n",
    "import time\n",
    "import torch\n",
    "from torch.utils.data import Dataset\n",
    "from torch.utils.data import DataLoader\n",
    "from classifier import WeakClassifier, BestClassifier\n",
    "import os\n",
    "import cv2"
   ]
  },
  {
   "cell_type": "code",
   "execution_count": 3,
   "metadata": {},
   "outputs": [
    {
     "name": "stdout",
     "output_type": "stream",
     "text": [
      "(19, 19, 3)\n",
      "(19, 19, 3)\n",
      "True\n"
     ]
    }
   ],
   "source": [
    "# read new_data3/test/face first image\n",
    "img_names = os.listdir('../new_data3/test/face')\n",
    "img = cv2.imread('../new_data3/test/face/' + img_names[1])\n",
    "print(img.shape)\n",
    "img2 = cv2.resize(img, (19, 19))\n",
    "print(img2.shape)\n",
    "print(np.array_equal(img, img2))\n",
    "\n"
   ]
  },
  {
   "cell_type": "code",
   "execution_count": 2,
   "metadata": {},
   "outputs": [
    {
     "data": {
      "text/plain": [
       "True"
      ]
     },
     "execution_count": 2,
     "metadata": {},
     "output_type": "execute_result"
    }
   ],
   "source": [
    "device = torch.device(\"cuda:0\" if torch.cuda.is_available() else \"cpu\")\n",
    "torch.cuda.is_available()"
   ]
  },
  {
   "cell_type": "code",
   "execution_count": 3,
   "metadata": {},
   "outputs": [
    {
     "data": {
      "text/plain": [
       "'face.train/train/face/00001.pgm'"
      ]
     },
     "execution_count": 3,
     "metadata": {},
     "output_type": "execute_result"
    }
   ],
   "source": [
    "path = 'face.train/train/face'\n",
    "imgname = '00001.pgm'\n",
    "os.path.join(path, imgname)"
   ]
  },
  {
   "cell_type": "code",
   "execution_count": 13,
   "metadata": {},
   "outputs": [
    {
     "data": {
      "text/plain": [
       "tensor([ 1,  2,  3,  4,  5,  6,  7,  8,  9, 10])"
      ]
     },
     "execution_count": 13,
     "metadata": {},
     "output_type": "execute_result"
    }
   ],
   "source": [
    "t = torch.tensor([1, 2, 3, 4, 5, 6, 7, 8, 9, 10])\n",
    "t1 = t[torch.tensor([False]*10)]\n",
    "torch.cat((t1, t), 0)"
   ]
  },
  {
   "cell_type": "code",
   "execution_count": 10,
   "metadata": {},
   "outputs": [
    {
     "name": "stdout",
     "output_type": "stream",
     "text": [
      "4667\n",
      "32\n",
      "370\n"
     ]
    }
   ],
   "source": [
    "def _rep(n, x):\n",
    "    return [x] * n\n",
    "\n",
    "_default_layers = [2, 5, *_rep(3, 20), *_rep(2, 50),\n",
    "                   *_rep(5, 100), *_rep(20, 200)]\n",
    "print(np.sum(_default_layers))\n",
    "print(len(_default_layers))\n",
    "print(4667 - 4297)"
   ]
  },
  {
   "cell_type": "markdown",
   "metadata": {},
   "source": [
    "### getting argsort of argsort gives the original array"
   ]
  },
  {
   "cell_type": "code",
   "execution_count": null,
   "metadata": {},
   "outputs": [
    {
     "name": "stdout",
     "output_type": "stream",
     "text": [
      "t =  tensor([[1, 1, 6, 2, 5],\n",
      "        [9, 1, 9, 9, 4],\n",
      "        [5, 1, 8, 9, 2],\n",
      "        [2, 0, 1, 2, 7],\n",
      "        [9, 8, 2, 2, 1]])\n",
      "i =  tensor([[0, 1, 3, 4, 2],\n",
      "        [1, 4, 0, 2, 3],\n",
      "        [1, 4, 0, 2, 3],\n",
      "        [1, 2, 0, 3, 4],\n",
      "        [4, 2, 3, 1, 0]])\n",
      "i[tmp,tmp2] =  tensor([[3],\n",
      "        [2],\n",
      "        [3],\n",
      "        [1],\n",
      "        [2]])\n",
      "tensor(True)\n",
      "target:  tensor([[2],\n",
      "        [9],\n",
      "        [9],\n",
      "        [0],\n",
      "        [2]])\n"
     ]
    }
   ],
   "source": [
    "t = torch.randint(0, 10, (5,5))\n",
    "tmp = torch.arange(len(t)).reshape(-1,1)\n",
    "print('t = ', t)\n",
    "\n",
    "i = torch.argsort(t, axis=1, stable=True) #@\n",
    "print('i = ', i)\n",
    "\n",
    "#@ resulting indecies\n",
    "tmp2 = torch.tensor([2,3,4,0,1]).reshape(-1, 1)\n",
    "print('i[tmp,tmp2] = ', i[tmp, tmp2])\n",
    "\n",
    "ii = torch.argsort(i, axis=1)\n",
    "# print('ii = ', ii)\n",
    "# print('t[tmp,i] = ', t[tmp, i])\n",
    "# print('t[tmp, i][tmp,i] = ', t[tmp, i][tmp,ii])\n",
    "print((t[tmp, i][tmp,ii]==t).all())\n",
    "\n",
    "#@ remap them to original array\n",
    "print('target: ', t[tmp,i[tmp,tmp2].reshape(-1,1)])\n",
    "\n",
    "# find index of value 0\n",
    "# idx = torch.where(i==0)\n",
    "# idx"
   ]
  }
 ],
 "metadata": {
  "kernelspec": {
   "display_name": "base",
   "language": "python",
   "name": "python3"
  },
  "language_info": {
   "codemirror_mode": {
    "name": "ipython",
    "version": 3
   },
   "file_extension": ".py",
   "mimetype": "text/x-python",
   "name": "python",
   "nbconvert_exporter": "python",
   "pygments_lexer": "ipython3",
   "version": "3.10.9"
  },
  "orig_nbformat": 4
 },
 "nbformat": 4,
 "nbformat_minor": 2
}
