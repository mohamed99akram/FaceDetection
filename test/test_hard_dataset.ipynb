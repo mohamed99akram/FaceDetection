{
  "cells": [
    {
      "cell_type": "code",
      "source": [
        "%pip install opencv-python"
      ],
      "outputs": [
        {
          "output_type": "stream",
          "name": "stdout",
          "text": "Collecting opencv-python\n  Using cached opencv_python-4.7.0.72-cp37-abi3-manylinux_2_17_x86_64.manylinux2014_x86_64.whl (61.8 MB)\nRequirement already satisfied: numpy>=1.17.0 in /anaconda/envs/azureml_py38_PT_TF/lib/python3.8/site-packages (from opencv-python) (1.23.5)\nInstalling collected packages: opencv-python\nSuccessfully installed opencv-python-4.7.0.72\nNote: you may need to restart the kernel to use updated packages.\n"
        }
      ],
      "execution_count": 6,
      "metadata": {
        "jupyter": {
          "source_hidden": false,
          "outputs_hidden": false
        },
        "nteract": {
          "transient": {
            "deleting": false
          }
        }
      }
    },
    {
      "cell_type": "code",
      "source": [
        "import sys; sys.path.append(\"../\")\n",
        "from feature_extractor import FeatureExtractor\n",
        "import torch\n",
        "import numpy as np\n",
        "import time\n",
        "from cascade import CascadeClassifier\n",
        "import cv2\n",
        "import joblib\n"
      ],
      "outputs": [
        {
          "output_type": "stream",
          "name": "stderr",
          "text": "/anaconda/envs/azureml_py38_PT_TF/lib/python3.8/site-packages/tqdm/auto.py:21: TqdmWarning: IProgress not found. Please update jupyter and ipywidgets. See https://ipywidgets.readthedocs.io/en/stable/user_install.html\n  from .autonotebook import tqdm as notebook_tqdm\n"
        }
      ],
      "execution_count": 1,
      "metadata": {
        "executionInfo": {
          "elapsed": 6395,
          "status": "ok",
          "timestamp": 1687350544417,
          "user": {
            "displayName": "Mohamed Akram Abdelfattah Ahmed",
            "userId": "14915064279616846998"
          },
          "user_tz": -180
        },
        "id": "BFLz2sZUBRuX",
        "gather": {
          "logged": 1687386656554
        }
      }
    },
    {
      "cell_type": "code",
      "source": [
        "torch.cuda.is_available()"
      ],
      "outputs": [
        {
          "output_type": "execute_result",
          "execution_count": 2,
          "data": {
            "text/plain": "True"
          },
          "metadata": {}
        }
      ],
      "execution_count": 2,
      "metadata": {
        "colab": {
          "base_uri": "https://localhost:8080/"
        },
        "executionInfo": {
          "elapsed": 164,
          "status": "ok",
          "timestamp": 1687350544426,
          "user": {
            "displayName": "Mohamed Akram Abdelfattah Ahmed",
            "userId": "14915064279616846998"
          },
          "user_tz": -180
        },
        "id": "WuOaRWaoBRub",
        "outputId": "60d6be04-f98d-44ab-e94b-f1ec56fe318f",
        "gather": {
          "logged": 1687386678028
        }
      }
    },
    {
      "cell_type": "code",
      "source": [
        "parent = '../hFeatures6/'\n",
        "data_path = 'new_data6'"
      ],
      "outputs": [],
      "execution_count": 3,
      "metadata": {
        "executionInfo": {
          "elapsed": 152,
          "status": "ok",
          "timestamp": 1687350544428,
          "user": {
            "displayName": "Mohamed Akram Abdelfattah Ahmed",
            "userId": "14915064279616846998"
          },
          "user_tz": -180
        },
        "id": "Ar61jmbQBRuc",
        "gather": {
          "logged": 1687386679905
        }
      }
    },
    {
      "cell_type": "markdown",
      "source": [
        "# Features Extraction"
      ],
      "metadata": {
        "id": "8S-_ciEYBRud"
      }
    },
    {
      "cell_type": "code",
      "source": [
        "mean = 111.02404842061983\n",
        "std = 56.926623499738575"
      ],
      "outputs": [],
      "execution_count": 4,
      "metadata": {
        "executionInfo": {
          "elapsed": 151,
          "status": "ok",
          "timestamp": 1687350544430,
          "user": {
            "displayName": "Mohamed Akram Abdelfattah Ahmed",
            "userId": "14915064279616846998"
          },
          "user_tz": -180
        },
        "id": "8_6OJLdPDc52",
        "gather": {
          "logged": 1687386732825
        }
      }
    },
    {
      "cell_type": "code",
      "source": [
        "def transform1(img):\n",
        "  return img\n",
        "  # img = (img - img.mean()) / (img.std() + 1e-8)\n",
        "  # return cv2.normalize(img, None, alpha=0, beta=255, norm_type=cv2.NORM_MINMAX, dtype=cv2.CV_8U)"
      ],
      "outputs": [],
      "execution_count": 5,
      "metadata": {
        "executionInfo": {
          "elapsed": 151,
          "status": "ok",
          "timestamp": 1687350544432,
          "user": {
            "displayName": "Mohamed Akram Abdelfattah Ahmed",
            "userId": "14915064279616846998"
          },
          "user_tz": -180
        },
        "id": "9yKqYdnnDYFb",
        "gather": {
          "logged": 1687386734209
        }
      }
    },
    {
      "cell_type": "code",
      "source": [
        "\n",
        "feature_extractor = FeatureExtractor(shape=(24, 24),\n",
        "                                     percentile=100,\n",
        "                                     batch_size=1000,\n",
        "                                     all_features_file=parent + \"all_features.npz\",\n",
        "                                     selected_features_file=parent + \"selected_features.npz\",\n",
        "                                     labels_file=parent + \"labels.npy\",\n",
        "                                     indecies_file=parent + \"indecies.npy\",)"
      ],
      "outputs": [],
      "execution_count": 6,
      "metadata": {
        "executionInfo": {
          "elapsed": 4864,
          "status": "ok",
          "timestamp": 1687350549146,
          "user": {
            "displayName": "Mohamed Akram Abdelfattah Ahmed",
            "userId": "14915064279616846998"
          },
          "user_tz": -180
        },
        "id": "fqmd3TjQBRue",
        "gather": {
          "logged": 1687386740311
        }
      }
    },
    {
      "cell_type": "code",
      "source": [
        "\n",
        "X, y = feature_extractor.extractFeatures(pos_path='../'+data_path+'/train/face',\n",
        "                                  neg_path='../'+data_path+'/train/non-face',\n",
        "                                  transform=transform1,\n",
        "                                  save_to_file=False)\n",
        "print('done')\n"
      ],
      "outputs": [
        {
          "output_type": "error",
          "ename": "error",
          "evalue": "OpenCV(4.7.0) /io/opencv/modules/imgproc/src/resize.cpp:4062: error: (-215:Assertion failed) !ssize.empty() in function 'resize'\n",
          "traceback": [
            "\u001b[0;31m---------------------------------------------------------------------------\u001b[0m",
            "\u001b[0;31merror\u001b[0m                                     Traceback (most recent call last)",
            "Cell \u001b[0;32mIn[7], line 1\u001b[0m\n\u001b[0;32m----> 1\u001b[0m X, y \u001b[38;5;241m=\u001b[39m \u001b[43mfeature_extractor\u001b[49m\u001b[38;5;241;43m.\u001b[39;49m\u001b[43mextractFeatures\u001b[49m\u001b[43m(\u001b[49m\u001b[43mpos_path\u001b[49m\u001b[38;5;241;43m=\u001b[39;49m\u001b[38;5;124;43m'\u001b[39;49m\u001b[38;5;124;43m../\u001b[39;49m\u001b[38;5;124;43m'\u001b[39;49m\u001b[38;5;241;43m+\u001b[39;49m\u001b[43mdata_path\u001b[49m\u001b[38;5;241;43m+\u001b[39;49m\u001b[38;5;124;43m'\u001b[39;49m\u001b[38;5;124;43m/train/face\u001b[39;49m\u001b[38;5;124;43m'\u001b[39;49m\u001b[43m,\u001b[49m\n\u001b[1;32m      2\u001b[0m \u001b[43m                                  \u001b[49m\u001b[43mneg_path\u001b[49m\u001b[38;5;241;43m=\u001b[39;49m\u001b[38;5;124;43m'\u001b[39;49m\u001b[38;5;124;43m../\u001b[39;49m\u001b[38;5;124;43m'\u001b[39;49m\u001b[38;5;241;43m+\u001b[39;49m\u001b[43mdata_path\u001b[49m\u001b[38;5;241;43m+\u001b[39;49m\u001b[38;5;124;43m'\u001b[39;49m\u001b[38;5;124;43m/train/non-face\u001b[39;49m\u001b[38;5;124;43m'\u001b[39;49m\u001b[43m,\u001b[49m\n\u001b[1;32m      3\u001b[0m \u001b[43m                                  \u001b[49m\u001b[43mtransform\u001b[49m\u001b[38;5;241;43m=\u001b[39;49m\u001b[43mtransform1\u001b[49m\u001b[43m,\u001b[49m\n\u001b[1;32m      4\u001b[0m \u001b[43m                                  \u001b[49m\u001b[43msave_to_file\u001b[49m\u001b[38;5;241;43m=\u001b[39;49m\u001b[38;5;28;43;01mFalse\u001b[39;49;00m\u001b[43m)\u001b[49m\n\u001b[1;32m      5\u001b[0m \u001b[38;5;28mprint\u001b[39m(\u001b[38;5;124m'\u001b[39m\u001b[38;5;124mdone\u001b[39m\u001b[38;5;124m'\u001b[39m)\n",
            "File \u001b[0;32m/mnt/batch/tasks/shared/LS_root/mounts/clusters/gp-facedetectioncompute/code/Users/14710020181138/GP_try/feature_extractor.py:182\u001b[0m, in \u001b[0;36mFeatureExtractor.extractFeatures\u001b[0;34m(self, pos_path, neg_path, transform, save_to_file)\u001b[0m\n\u001b[1;32m    164\u001b[0m \u001b[38;5;28;01mdef\u001b[39;00m \u001b[38;5;21mextractFeatures\u001b[39m(\u001b[38;5;28mself\u001b[39m, \n\u001b[1;32m    165\u001b[0m                     pos_path, \n\u001b[1;32m    166\u001b[0m                     neg_path, \n\u001b[1;32m    167\u001b[0m                     transform\u001b[38;5;241m=\u001b[39m\u001b[38;5;28;01mNone\u001b[39;00m,\n\u001b[1;32m    168\u001b[0m                     save_to_file\u001b[38;5;241m=\u001b[39m\u001b[38;5;28;01mTrue\u001b[39;00m):\n\u001b[1;32m    169\u001b[0m \u001b[38;5;250m    \u001b[39m\u001b[38;5;124;03m\"\"\"\u001b[39;00m\n\u001b[1;32m    170\u001b[0m \u001b[38;5;124;03m    Reads dataset, extract features and return X matrix and y vector\u001b[39;00m\n\u001b[1;32m    171\u001b[0m \u001b[38;5;124;03m    Used to load training data\u001b[39;00m\n\u001b[0;32m   (...)\u001b[0m\n\u001b[1;32m    180\u001b[0m \u001b[38;5;124;03m    return X, y (all features and labels)\u001b[39;00m\n\u001b[1;32m    181\u001b[0m \u001b[38;5;124;03m    \"\"\"\u001b[39;00m\n\u001b[0;32m--> 182\u001b[0m     dataset \u001b[38;5;241m=\u001b[39m \u001b[38;5;28;43mself\u001b[39;49m\u001b[38;5;241;43m.\u001b[39;49m\u001b[43mreadDataset\u001b[49m\u001b[43m(\u001b[49m\u001b[43mpos_path\u001b[49m\u001b[43m,\u001b[49m\u001b[43m \u001b[49m\u001b[43mneg_path\u001b[49m\u001b[43m,\u001b[49m\u001b[43m \u001b[49m\u001b[43mtransform\u001b[49m\u001b[38;5;241;43m=\u001b[39;49m\u001b[43mtransform\u001b[49m\u001b[43m)\u001b[49m\n\u001b[1;32m    183\u001b[0m     dataset_ii \u001b[38;5;241m=\u001b[39m \u001b[38;5;28mself\u001b[39m\u001b[38;5;241m.\u001b[39mgetIntegralImage(dataset[\u001b[38;5;241m0\u001b[39m]), dataset[\u001b[38;5;241m1\u001b[39m]\n\u001b[1;32m    184\u001b[0m     all_features \u001b[38;5;241m=\u001b[39m \u001b[38;5;28mself\u001b[39m\u001b[38;5;241m.\u001b[39mgetFeaturesFromDesc(\u001b[38;5;28mself\u001b[39m\u001b[38;5;241m.\u001b[39mf2, \u001b[38;5;28mself\u001b[39m\u001b[38;5;241m.\u001b[39mf3, \u001b[38;5;28mself\u001b[39m\u001b[38;5;241m.\u001b[39mf4, dataset_ii)\n",
            "File \u001b[0;32m/mnt/batch/tasks/shared/LS_root/mounts/clusters/gp-facedetectioncompute/code/Users/14710020181138/GP_try/feature_extractor.py:248\u001b[0m, in \u001b[0;36mFeatureExtractor.readDataset\u001b[0;34m(self, pos_path, neg_path, transform)\u001b[0m\n\u001b[1;32m    246\u001b[0m \u001b[38;5;28;01mif\u001b[39;00m transform \u001b[38;5;129;01mis\u001b[39;00m \u001b[38;5;129;01mnot\u001b[39;00m \u001b[38;5;28;01mNone\u001b[39;00m:\n\u001b[1;32m    247\u001b[0m     img \u001b[38;5;241m=\u001b[39m transform(img)\n\u001b[0;32m--> 248\u001b[0m img \u001b[38;5;241m=\u001b[39m \u001b[43mcv2\u001b[49m\u001b[38;5;241;43m.\u001b[39;49m\u001b[43mresize\u001b[49m\u001b[43m(\u001b[49m\u001b[43mimg\u001b[49m\u001b[43m,\u001b[49m\u001b[43m \u001b[49m\u001b[38;5;28;43mself\u001b[39;49m\u001b[38;5;241;43m.\u001b[39;49m\u001b[43mshape\u001b[49m\u001b[43m)\u001b[49m\n\u001b[1;32m    249\u001b[0m imgs\u001b[38;5;241m.\u001b[39mappend(img)\n\u001b[1;32m    250\u001b[0m \u001b[38;5;66;03m# labels.append(-1)\u001b[39;00m\n",
            "\u001b[0;31merror\u001b[0m: OpenCV(4.7.0) /io/opencv/modules/imgproc/src/resize.cpp:4062: error: (-215:Assertion failed) !ssize.empty() in function 'resize'\n"
          ]
        }
      ],
      "execution_count": 7,
      "metadata": {
        "colab": {
          "base_uri": "https://localhost:8080/"
        },
        "executionInfo": {
          "elapsed": 15630,
          "status": "ok",
          "timestamp": 1687350570415,
          "user": {
            "displayName": "Mohamed Akram Abdelfattah Ahmed",
            "userId": "14915064279616846998"
          },
          "user_tz": -180
        },
        "id": "bEeelWbaBRuf",
        "outputId": "be8e8ced-efc9-40a6-967d-46941e301bf1",
        "gather": {
          "logged": 1687386854055
        }
      }
    },
    {
      "cell_type": "code",
      "source": [
        "import gc\n",
        "gc.collect()"
      ],
      "outputs": [
        {
          "output_type": "execute_result",
          "execution_count": 13,
          "data": {
            "text/plain": "61"
          },
          "metadata": {}
        }
      ],
      "execution_count": 13,
      "metadata": {
        "colab": {
          "base_uri": "https://localhost:8080/"
        },
        "executionInfo": {
          "elapsed": 719,
          "status": "ok",
          "timestamp": 1687350576373,
          "user": {
            "displayName": "Mohamed Akram Abdelfattah Ahmed",
            "userId": "14915064279616846998"
          },
          "user_tz": -180
        },
        "id": "1FM8BOIm0WS0",
        "outputId": "ba900d9a-4351-4350-fd45-5a55a697a791"
      }
    },
    {
      "cell_type": "code",
      "source": [
        "# del feature_extractor.f2\n",
        "# del feature_extractor.f3\n",
        "# del feature_extractor.f4"
      ],
      "outputs": [],
      "execution_count": 27,
      "metadata": {
        "executionInfo": {
          "elapsed": 10,
          "status": "ok",
          "timestamp": 1687348727126,
          "user": {
            "displayName": "Mohamed Akram Abdelfattah Ahmed",
            "userId": "14915064279616846998"
          },
          "user_tz": -180
        },
        "id": "XijljJUUBRug"
      }
    },
    {
      "cell_type": "code",
      "source": [
        "# indecies, X = feature_extractor.selectPercentile(X, y )\n",
        "# # y = np.load(parent + 'labels.npy')\n",
        "# print(X.shape, y.shape)\n",
        "# print('done')\n"
      ],
      "outputs": [
        {
          "output_type": "stream",
          "name": "stdout",
          "text": "Now selecting percentile features\n(12792, 10854) (10854,)\ndone\n"
        }
      ],
      "execution_count": 14,
      "metadata": {
        "colab": {
          "base_uri": "https://localhost:8080/"
        },
        "executionInfo": {
          "elapsed": 23640,
          "status": "ok",
          "timestamp": 1687350605080,
          "user": {
            "displayName": "Mohamed Akram Abdelfattah Ahmed",
            "userId": "14915064279616846998"
          },
          "user_tz": -180
        },
        "id": "oxQz6NR9BRug",
        "outputId": "828dfa96-d3ee-49d7-ee73-3f9224890bdf"
      }
    },
    {
      "cell_type": "code",
      "source": [
        "# feature_extractor.f2, feature_extractor.f3, feature_extractor.f4 = feature_extractor.describe_features(feature_extractor.shape)"
      ],
      "outputs": [],
      "execution_count": 30,
      "metadata": {
        "executionInfo": {
          "elapsed": 2211,
          "status": "ok",
          "timestamp": 1687348806890,
          "user": {
            "displayName": "Mohamed Akram Abdelfattah Ahmed",
            "userId": "14915064279616846998"
          },
          "user_tz": -180
        },
        "id": "nUSNrWDXludO"
      }
    },
    {
      "cell_type": "code",
      "source": [
        "# temp = np.load('../hFeatures3/all_features.npz')['arr_0']\n",
        "temp = X\n",
        "temp"
      ],
      "outputs": [
        {
          "output_type": "execute_result",
          "execution_count": 15,
          "data": {
            "text/plain": "array([[ -99.,  -83.,  234., ..., -248.,  -33.,    0.],\n       [ -40., -136.,  268., ..., -423.,  -58.,    0.],\n       [  29.,  231., -165., ...,  126.,  -92.,    0.],\n       ...,\n       [  -5.,  -39.,  -59., ...,   11.,    0.,    0.],\n       [ -44., -197., -185., ...,   15.,   -3.,    0.],\n       [ -31., -128.,  -98., ...,    7.,   -2.,    0.]], dtype=float32)"
          },
          "metadata": {}
        }
      ],
      "execution_count": 15,
      "metadata": {
        "colab": {
          "base_uri": "https://localhost:8080/"
        },
        "executionInfo": {
          "elapsed": 444,
          "status": "ok",
          "timestamp": 1687350618208,
          "user": {
            "displayName": "Mohamed Akram Abdelfattah Ahmed",
            "userId": "14915064279616846998"
          },
          "user_tz": -180
        },
        "id": "epeHpUbaVpx0",
        "outputId": "0b8d15b0-5763-40f5-b2ec-a15a0ad1c451"
      }
    },
    {
      "cell_type": "code",
      "source": [
        "print(temp.min())\n",
        "print(temp.max())\n",
        "print(temp[3])\n",
        "print(temp[4])"
      ],
      "outputs": [
        {
          "output_type": "stream",
          "name": "stdout",
          "text": "-26151.0\n29662.0\n[  29.  -41.  325. ... -505.  -91.    0.]\n[   0.  239. -207. ...  144. -121.    0.]\n"
        }
      ],
      "execution_count": 16,
      "metadata": {
        "colab": {
          "base_uri": "https://localhost:8080/"
        },
        "executionInfo": {
          "elapsed": 569,
          "status": "ok",
          "timestamp": 1687350620301,
          "user": {
            "displayName": "Mohamed Akram Abdelfattah Ahmed",
            "userId": "14915064279616846998"
          },
          "user_tz": -180
        },
        "id": "pZZLowLEWKFm",
        "outputId": "be1f435a-a2c7-4fbe-e24f-1f1fb0635903"
      }
    },
    {
      "cell_type": "markdown",
      "source": [
        "# Training"
      ],
      "metadata": {
        "id": "A4GGZGGCBRuh"
      }
    },
    {
      "cell_type": "code",
      "source": [
        "%rm StrongClassifier/lastSC.last\n",
        "s_t = time.time()\n",
        "cascadeClassifier= CascadeClassifier(X, y, batchsize=10000, verbose=True, layers=[200])\n",
        "tr_acc = cascadeClassifier.train()\n",
        "\n",
        "cascadeClassifier.save(parent + 'cascadeClassifier.pkl')\n",
        "\n",
        "print('accuracy: ', tr_acc)\n",
        "print('time taken: ', time.time() - s_t, 's')\n",
        "print('done')"
      ],
      "outputs": [
        {
          "output_type": "stream",
          "name": "stdout",
          "text": "rm: cannot remove 'StrongClassifier/lastSC.last': No such file or directory\n$$$$$$$ Training layer 1 / 1 $$$$$$$\nStarting to choose classifier\nFinished training weak classifier 1 / 200\nStarting to choose classifier\nFinished training weak classifier 2 / 200\nStarting to choose classifier\nFinished training weak classifier 3 / 200\nStarting to choose classifier\nFinished training weak classifier 4 / 200\nStarting to choose classifier\nFinished training weak classifier 5 / 200\nStarting to choose classifier\nFinished training weak classifier 6 / 200\nStarting to choose classifier\nFinished training weak classifier 7 / 200\nStarting to choose classifier\nFinished training weak classifier 8 / 200\nStarting to choose classifier\nFinished training weak classifier 9 / 200\nStarting to choose classifier\nFinished training weak classifier 10 / 200\nStarting to choose classifier\nFinished training weak classifier 11 / 200\nStarting to choose classifier\nFinished training weak classifier 12 / 200\nStarting to choose classifier\nFinished training weak classifier 13 / 200\nStarting to choose classifier\nFinished training weak classifier 14 / 200\nStarting to choose classifier\nFinished training weak classifier 15 / 200\nStarting to choose classifier\nFinished training weak classifier 16 / 200\nStarting to choose classifier\nFinished training weak classifier 17 / 200\nStarting to choose classifier\nFinished training weak classifier 18 / 200\nStarting to choose classifier\nFinished training weak classifier 19 / 200\nStarting to choose classifier\nFinished training weak classifier 20 / 200\nStarting to choose classifier\nFinished training weak classifier 21 / 200\nStarting to choose classifier\nFinished training weak classifier 22 / 200\nStarting to choose classifier\nFinished training weak classifier 23 / 200\nStarting to choose classifier\nFinished training weak classifier 24 / 200\nStarting to choose classifier\nFinished training weak classifier 25 / 200\nStarting to choose classifier\nFinished training weak classifier 26 / 200\nStarting to choose classifier\nFinished training weak classifier 27 / 200\nStarting to choose classifier\nFinished training weak classifier 28 / 200\nStarting to choose classifier\nFinished training weak classifier 29 / 200\nStarting to choose classifier\nFinished training weak classifier 30 / 200\nStarting to choose classifier\nFinished training weak classifier 31 / 200\nStarting to choose classifier\nFinished training weak classifier 32 / 200\nStarting to choose classifier\nFinished training weak classifier 33 / 200\nStarting to choose classifier\nFinished training weak classifier 34 / 200\nStarting to choose classifier\nFinished training weak classifier 35 / 200\nStarting to choose classifier\nFinished training weak classifier 36 / 200\nStarting to choose classifier\nFinished training weak classifier 37 / 200\nStarting to choose classifier\nFinished training weak classifier 38 / 200\nStarting to choose classifier\nFinished training weak classifier 39 / 200\nStarting to choose classifier\nFinished training weak classifier 40 / 200\nStarting to choose classifier\nFinished training weak classifier 41 / 200\nStarting to choose classifier\nFinished training weak classifier 42 / 200\nStarting to choose classifier\nFinished training weak classifier 43 / 200\nStarting to choose classifier\nFinished training weak classifier 44 / 200\nStarting to choose classifier\nFinished training weak classifier 45 / 200\nStarting to choose classifier\nFinished training weak classifier 46 / 200\nStarting to choose classifier\nFinished training weak classifier 47 / 200\nStarting to choose classifier\nFinished training weak classifier 48 / 200\nStarting to choose classifier\nFinished training weak classifier 49 / 200\nStarting to choose classifier\nFinished training weak classifier 50 / 200\nStarting to choose classifier\nFinished training weak classifier 51 / 200\nStarting to choose classifier\nFinished training weak classifier 52 / 200\nStarting to choose classifier\nFinished training weak classifier 53 / 200\nStarting to choose classifier\nFinished training weak classifier 54 / 200\nStarting to choose classifier\nFinished training weak classifier 55 / 200\nStarting to choose classifier\nFinished training weak classifier 56 / 200\nStarting to choose classifier\nFinished training weak classifier 57 / 200\nStarting to choose classifier\nFinished training weak classifier 58 / 200\nStarting to choose classifier\nFinished training weak classifier 59 / 200\nStarting to choose classifier\nFinished training weak classifier 60 / 200\nStarting to choose classifier\nFinished training weak classifier 61 / 200\nStarting to choose classifier\nFinished training weak classifier 62 / 200\nStarting to choose classifier\nFinished training weak classifier 63 / 200\nStarting to choose classifier\nFinished training weak classifier 64 / 200\nStarting to choose classifier\nFinished training weak classifier 65 / 200\nStarting to choose classifier\nFinished training weak classifier 66 / 200\nStarting to choose classifier\nFinished training weak classifier 67 / 200\nStarting to choose classifier\nFinished training weak classifier 68 / 200\nStarting to choose classifier\nFinished training weak classifier 69 / 200\nStarting to choose classifier\nFinished training weak classifier 70 / 200\nStarting to choose classifier\nFinished training weak classifier 71 / 200\nStarting to choose classifier\nFinished training weak classifier 72 / 200\nStarting to choose classifier\nFinished training weak classifier 73 / 200\nStarting to choose classifier\nFinished training weak classifier 74 / 200\nStarting to choose classifier\nFinished training weak classifier 75 / 200\nStarting to choose classifier\nFinished training weak classifier 76 / 200\nStarting to choose classifier\nFinished training weak classifier 77 / 200\nStarting to choose classifier\nFinished training weak classifier 78 / 200\nStarting to choose classifier\nFinished training weak classifier 79 / 200\nStarting to choose classifier\nFinished training weak classifier 80 / 200\nStarting to choose classifier\nFinished training weak classifier 81 / 200\nStarting to choose classifier\nFinished training weak classifier 82 / 200\nStarting to choose classifier\nFinished training weak classifier 83 / 200\nStarting to choose classifier\nFinished training weak classifier 84 / 200\nStarting to choose classifier\nFinished training weak classifier 85 / 200\nStarting to choose classifier\nFinished training weak classifier 86 / 200\nStarting to choose classifier\nFinished training weak classifier 87 / 200\nStarting to choose classifier\nFinished training weak classifier 88 / 200\nStarting to choose classifier\nFinished training weak classifier 89 / 200\nStarting to choose classifier\nFinished training weak classifier 90 / 200\nStarting to choose classifier\nFinished training weak classifier 91 / 200\nStarting to choose classifier\nFinished training weak classifier 92 / 200\nStarting to choose classifier\nFinished training weak classifier 93 / 200\nStarting to choose classifier\nFinished training weak classifier 94 / 200\nStarting to choose classifier\nFinished training weak classifier 95 / 200\nStarting to choose classifier\nFinished training weak classifier 96 / 200\nStarting to choose classifier\nFinished training weak classifier 97 / 200\nStarting to choose classifier\nFinished training weak classifier 98 / 200\nStarting to choose classifier\nFinished training weak classifier 99 / 200\nStarting to choose classifier\nFinished training weak classifier 100 / 200\nStarting to choose classifier\nFinished training weak classifier 101 / 200\nStarting to choose classifier\nFinished training weak classifier 102 / 200\nStarting to choose classifier\nFinished training weak classifier 103 / 200\nStarting to choose classifier\nFinished training weak classifier 104 / 200\nStarting to choose classifier\nFinished training weak classifier 105 / 200\nStarting to choose classifier\nFinished training weak classifier 106 / 200\nStarting to choose classifier\nFinished training weak classifier 107 / 200\nStarting to choose classifier\nFinished training weak classifier 108 / 200\nStarting to choose classifier\nFinished training weak classifier 109 / 200\nStarting to choose classifier\nFinished training weak classifier 110 / 200\nStarting to choose classifier\nFinished training weak classifier 111 / 200\nStarting to choose classifier\nFinished training weak classifier 112 / 200\nStarting to choose classifier\nFinished training weak classifier 113 / 200\nStarting to choose classifier\nFinished training weak classifier 114 / 200\nStarting to choose classifier\nFinished training weak classifier 115 / 200\nStarting to choose classifier\nFinished training weak classifier 116 / 200\nStarting to choose classifier\nFinished training weak classifier 117 / 200\nStarting to choose classifier\nFinished training weak classifier 118 / 200\nStarting to choose classifier\nFinished training weak classifier 119 / 200\nStarting to choose classifier\nFinished training weak classifier 120 / 200\nStarting to choose classifier\nFinished training weak classifier 121 / 200\nStarting to choose classifier\nFinished training weak classifier 122 / 200\nStarting to choose classifier\nFinished training weak classifier 123 / 200\nStarting to choose classifier\nFinished training weak classifier 124 / 200\nStarting to choose classifier\nFinished training weak classifier 125 / 200\nStarting to choose classifier\nFinished training weak classifier 126 / 200\nStarting to choose classifier\nFinished training weak classifier 127 / 200\nStarting to choose classifier\nFinished training weak classifier 128 / 200\nStarting to choose classifier\nFinished training weak classifier 129 / 200\nStarting to choose classifier\nFinished training weak classifier 130 / 200\nStarting to choose classifier\nFinished training weak classifier 131 / 200\nStarting to choose classifier\nFinished training weak classifier 132 / 200\nStarting to choose classifier\nFinished training weak classifier 133 / 200\nStarting to choose classifier\nFinished training weak classifier 134 / 200\nStarting to choose classifier\nFinished training weak classifier 135 / 200\nStarting to choose classifier\nFinished training weak classifier 136 / 200\nStarting to choose classifier\nFinished training weak classifier 137 / 200\nStarting to choose classifier\nFinished training weak classifier 138 / 200\nStarting to choose classifier\nFinished training weak classifier 139 / 200\nStarting to choose classifier\nFinished training weak classifier 140 / 200\nStarting to choose classifier\nFinished training weak classifier 141 / 200\nStarting to choose classifier\nFinished training weak classifier 142 / 200\nStarting to choose classifier\nFinished training weak classifier 143 / 200\nStarting to choose classifier\nFinished training weak classifier 144 / 200\nStarting to choose classifier\nFinished training weak classifier 145 / 200\nStarting to choose classifier\nFinished training weak classifier 146 / 200\nStarting to choose classifier\nFinished training weak classifier 147 / 200\nStarting to choose classifier\nFinished training weak classifier 148 / 200\nStarting to choose classifier\nFinished training weak classifier 149 / 200\nStarting to choose classifier\nFinished training weak classifier 150 / 200\nStarting to choose classifier\nFinished training weak classifier 151 / 200\nStarting to choose classifier\nFinished training weak classifier 152 / 200\nStarting to choose classifier\nFinished training weak classifier 153 / 200\nStarting to choose classifier\nFinished training weak classifier 154 / 200\nStarting to choose classifier\nFinished training weak classifier 155 / 200\nStarting to choose classifier\nFinished training weak classifier 156 / 200\nStarting to choose classifier\nFinished training weak classifier 157 / 200\nStarting to choose classifier\nFinished training weak classifier 158 / 200\nStarting to choose classifier\nFinished training weak classifier 159 / 200\nStarting to choose classifier\nFinished training weak classifier 160 / 200\nStarting to choose classifier\nFinished training weak classifier 161 / 200\nStarting to choose classifier\nFinished training weak classifier 162 / 200\nStarting to choose classifier\nFinished training weak classifier 163 / 200\nStarting to choose classifier\nFinished training weak classifier 164 / 200\nStarting to choose classifier\nFinished training weak classifier 165 / 200\nStarting to choose classifier\nFinished training weak classifier 166 / 200\nStarting to choose classifier\nFinished training weak classifier 167 / 200\nStarting to choose classifier\nFinished training weak classifier 168 / 200\nStarting to choose classifier\nFinished training weak classifier 169 / 200\nStarting to choose classifier\nFinished training weak classifier 170 / 200\nStarting to choose classifier\nFinished training weak classifier 171 / 200\nStarting to choose classifier\nFinished training weak classifier 172 / 200\nStarting to choose classifier\nFinished training weak classifier 173 / 200\nStarting to choose classifier\nFinished training weak classifier 174 / 200\nStarting to choose classifier\nFinished training weak classifier 175 / 200\nStarting to choose classifier\nFinished training weak classifier 176 / 200\nStarting to choose classifier\nFinished training weak classifier 177 / 200\nStarting to choose classifier\nFinished training weak classifier 178 / 200\nStarting to choose classifier\nFinished training weak classifier 179 / 200\nStarting to choose classifier\nFinished training weak classifier 180 / 200\nStarting to choose classifier\nFinished training weak classifier 181 / 200\nStarting to choose classifier\nFinished training weak classifier 182 / 200\nStarting to choose classifier\nFinished training weak classifier 183 / 200\nStarting to choose classifier\nFinished training weak classifier 184 / 200\nStarting to choose classifier\nFinished training weak classifier 185 / 200\nStarting to choose classifier\nFinished training weak classifier 186 / 200\nStarting to choose classifier\nFinished training weak classifier 187 / 200\nStarting to choose classifier\nFinished training weak classifier 188 / 200\nStarting to choose classifier\nFinished training weak classifier 189 / 200\nStarting to choose classifier\nFinished training weak classifier 190 / 200\nStarting to choose classifier\nFinished training weak classifier 191 / 200\nStarting to choose classifier\nFinished training weak classifier 192 / 200\nStarting to choose classifier\nFinished training weak classifier 193 / 200\nStarting to choose classifier\nFinished training weak classifier 194 / 200\nStarting to choose classifier\nFinished training weak classifier 195 / 200\nStarting to choose classifier\nFinished training weak classifier 196 / 200\nStarting to choose classifier\nFinished training weak classifier 197 / 200\nStarting to choose classifier\nFinished training weak classifier 198 / 200\nStarting to choose classifier\nFinished training weak classifier 199 / 200\nStarting to choose classifier\nFinished training weak classifier 200 / 200\n$$$$$$$$$ Finished training layer 1 / 1 $$$$\nChosen samples: (10854,)\n%%%%%%% Layer 1 / 1 has remaining y=1: 3618, y=0: 11 %%%%%%%\naccuracy:  0.9988022848719366\ntime taken:  501.8656117916107 s\ndone\n"
        }
      ],
      "execution_count": 17,
      "metadata": {
        "colab": {
          "base_uri": "https://localhost:8080/"
        },
        "executionInfo": {
          "elapsed": 502475,
          "status": "ok",
          "timestamp": 1687351127555,
          "user": {
            "displayName": "Mohamed Akram Abdelfattah Ahmed",
            "userId": "14915064279616846998"
          },
          "user_tz": -180
        },
        "id": "RqaoqQfVBRuh",
        "outputId": "55da4c20-d30a-4fe6-934c-d7d3041f468e"
      }
    },
    {
      "cell_type": "code",
      "source": [
        "cascadeClassifier.save_joblib(parent + 'cascadeClassifier.joblib')"
      ],
      "outputs": [],
      "execution_count": null,
      "metadata": {
        "jupyter": {
          "outputs_hidden": false,
          "source_hidden": false
        },
        "nteract": {
          "transient": {
            "deleting": false
          }
        }
      }
    },
    {
      "cell_type": "code",
      "source": [
        "joblib.dump(feature_extractor, parent + 'feature_extractor.joblib')"
      ],
      "outputs": [],
      "execution_count": null,
      "metadata": {
        "jupyter": {
          "source_hidden": false,
          "outputs_hidden": false
        },
        "nteract": {
          "transient": {
            "deleting": false
          }
        }
      }
    },
    {
      "cell_type": "code",
      "source": [
        "# import pickle as pkl\n",
        "# with open(parent + 'cascadeClassifier.pkl', 'rb') as f:\n",
        "#   cascadeClassifier = pkl.load(f)"
      ],
      "outputs": [],
      "execution_count": 18,
      "metadata": {
        "executionInfo": {
          "elapsed": 110,
          "status": "ok",
          "timestamp": 1687351127560,
          "user": {
            "displayName": "Mohamed Akram Abdelfattah Ahmed",
            "userId": "14915064279616846998"
          },
          "user_tz": -180
        },
        "id": "GJXGnAlPpmNk"
      }
    },
    {
      "cell_type": "markdown",
      "source": [
        "# Testing"
      ],
      "metadata": {
        "id": "gkciQaKfBRuj"
      }
    },
    {
      "cell_type": "code",
      "source": [
        "# accuracy imports\n",
        "from sklearn.metrics import accuracy_score, f1_score, precision_score, recall_score, classification_report, confusion_matrix\n"
      ],
      "outputs": [],
      "execution_count": 19,
      "metadata": {
        "executionInfo": {
          "elapsed": 112,
          "status": "ok",
          "timestamp": 1687351127565,
          "user": {
            "displayName": "Mohamed Akram Abdelfattah Ahmed",
            "userId": "14915064279616846998"
          },
          "user_tz": -180
        },
        "id": "ZZW1CdrTBRuj"
      }
    },
    {
      "cell_type": "code",
      "source": [
        "s_t = time.time()\n",
        "t_f_idx_map, t_features, t_labels = feature_extractor.extractFeaturesByIndecies(pos_path='../'+data_path+'/test/face',\n",
        "                                            neg_path='../'+data_path+'/test/non-face',\n",
        "                                            cascadeClassifier=cascadeClassifier,\n",
        "                                            transform=transform1,\n",
        "                                            use_percentile=False,)\n",
        "print(t_features.shape, t_labels.shape)\n",
        "predictions = cascadeClassifier.predict(t_features, t_f_idx_map)\n",
        "print('test accuracy: ', np.sum(predictions == t_labels) / t_labels.shape[0])\n",
        "print('time taken: ', time.time() - s_t, 's')"
      ],
      "outputs": [
        {
          "output_type": "stream",
          "name": "stdout",
          "text": "Now reading dataset...\nNow extracting features from dataset...\n(191, 2715) (2715,)\ntest accuracy:  0.9804788213627993\ntime taken:  1.289139986038208 s\n"
        }
      ],
      "execution_count": 20,
      "metadata": {
        "colab": {
          "base_uri": "https://localhost:8080/"
        },
        "executionInfo": {
          "elapsed": 1353,
          "status": "ok",
          "timestamp": 1687351128828,
          "user": {
            "displayName": "Mohamed Akram Abdelfattah Ahmed",
            "userId": "14915064279616846998"
          },
          "user_tz": -180
        },
        "id": "rZCmoB66BRuj",
        "outputId": "3c117e33-7a8f-4059-8d53-2fa7bdb5af71"
      }
    },
    {
      "cell_type": "code",
      "source": [
        "# report\n",
        "print('accuracy: ', accuracy_score(t_labels, predictions))\n",
        "print('f1 score macro: ', f1_score(t_labels, predictions, average='macro'))\n",
        "print('f1 score binary: ', f1_score(t_labels, predictions))\n",
        "print('f1 score micro: ', f1_score(t_labels, predictions, average='micro'))\n",
        "print('precision: ', precision_score(t_labels, predictions))\n",
        "print('recall: ', recall_score(t_labels, predictions))\n",
        "print('confusion matrix: \\n', confusion_matrix(t_labels, predictions))\n",
        "print('classification report: \\n', classification_report(t_labels, predictions, digits=4))\n"
      ],
      "outputs": [
        {
          "output_type": "stream",
          "name": "stdout",
          "text": "accuracy:  0.9804788213627993\nf1 score macro:  0.9780447356724715\nf1 score binary:  0.9707344008834898\nf1 score micro:  0.9804788213627993\nprecision:  0.9701986754966887\nrecall:  0.9712707182320443\nconfusion matrix: \n [[1783   27]\n [  26  879]]\nclassification report: \n               precision    recall  f1-score   support\n\n           0     0.9856    0.9851    0.9854      1810\n           1     0.9702    0.9713    0.9707       905\n\n    accuracy                         0.9805      2715\n   macro avg     0.9779    0.9782    0.9780      2715\nweighted avg     0.9805    0.9805    0.9805      2715\n\n"
        }
      ],
      "execution_count": 21,
      "metadata": {
        "colab": {
          "base_uri": "https://localhost:8080/"
        },
        "executionInfo": {
          "elapsed": 19,
          "status": "ok",
          "timestamp": 1687351128829,
          "user": {
            "displayName": "Mohamed Akram Abdelfattah Ahmed",
            "userId": "14915064279616846998"
          },
          "user_tz": -180
        },
        "id": "RTk2mYKSBRuk",
        "outputId": "00a84781-ff90-4bd6-d33b-84dba0b4a624"
      }
    },
    {
      "cell_type": "markdown",
      "source": [
        "# Try full image"
      ],
      "metadata": {
        "id": "929DXgD0wYmh"
      }
    },
    {
      "cell_type": "code",
      "source": [
        "# !mkdir /content/drive/MyDrive/GP/GP_try/hFeatures5_3\n",
        "# !cp -r ../hFeatures5_3/* /content/drive/MyDrive/GP/GP_try/hFeatures5_3"
      ],
      "outputs": [
        {
          "output_type": "stream",
          "name": "stdout",
          "text": "mkdir: cannot create directory ‘/content/drive/MyDrive/GP/GP_try/hFeatures5_3’: File exists\n"
        }
      ],
      "execution_count": 22,
      "metadata": {
        "colab": {
          "base_uri": "https://localhost:8080/"
        },
        "executionInfo": {
          "elapsed": 6207,
          "status": "ok",
          "timestamp": 1687351135019,
          "user": {
            "displayName": "Mohamed Akram Abdelfattah Ahmed",
            "userId": "14915064279616846998"
          },
          "user_tz": -180
        },
        "id": "hT-rTEYm-3rC",
        "outputId": "df284381-db44-48de-bb5c-f28591013fca"
      }
    },
    {
      "cell_type": "code",
      "source": [
        "# !mkdir ../../lfw_all\n",
        "# !cp /content/drive/MyDrive/GP/lfw_all/* ../../lfw_all/"
      ],
      "outputs": [],
      "execution_count": 23,
      "metadata": {
        "executionInfo": {
          "elapsed": 186770,
          "status": "ok",
          "timestamp": 1687351321737,
          "user": {
            "displayName": "Mohamed Akram Abdelfattah Ahmed",
            "userId": "14915064279616846998"
          },
          "user_tz": -180
        },
        "id": "ptjNiE5kyRYf"
      }
    },
    {
      "cell_type": "code",
      "source": [
        "import random\n",
        "from detect_face import FaceDetector\n",
        "from PIL import Image\n",
        "import os\n",
        "import matplotlib.pyplot as plt\n",
        "lfw_all = '../../lfw_all/'\n",
        "all_images_names = os.listdir(lfw_all)\n",
        "# all_images_names = sorted(all_images_names)\n",
        "random.shuffle(all_images_names)\n",
        "all_images_names = [lfw_all + name for name in all_images_names]\n",
        "all_images_names[0]"
      ],
      "outputs": [
        {
          "output_type": "execute_result",
          "execution_count": 24,
          "data": {
            "application/vnd.google.colaboratory.intrinsic+json": {
              "type": "string"
            },
            "text/plain": "'../../lfw_all/Carlos_Vives_0003.jpg'"
          },
          "metadata": {}
        }
      ],
      "execution_count": 24,
      "metadata": {
        "colab": {
          "base_uri": "https://localhost:8080/",
          "height": 35
        },
        "executionInfo": {
          "elapsed": 59,
          "status": "ok",
          "timestamp": 1687351321739,
          "user": {
            "displayName": "Mohamed Akram Abdelfattah Ahmed",
            "userId": "14915064279616846998"
          },
          "user_tz": -180
        },
        "id": "J06EG6OLwYQz",
        "outputId": "9170e0d8-35e3-4711-9ed1-33037e1ec5d2"
      }
    },
    {
      "cell_type": "code",
      "source": [
        "show_images = list(range(0, 20))\n",
        "rectangles_only = True\n",
        "# resize_to = (100, 100)\n",
        "random.shuffle(all_images_names)"
      ],
      "outputs": [],
      "execution_count": 25,
      "metadata": {
        "executionInfo": {
          "elapsed": 33,
          "status": "ok",
          "timestamp": 1687351321743,
          "user": {
            "displayName": "Mohamed Akram Abdelfattah Ahmed",
            "userId": "14915064279616846998"
          },
          "user_tz": -180
        },
        "id": "ZZcc8x8twkBS"
      }
    },
    {
      "cell_type": "code",
      "source": [
        "device = torch.device(\"cuda:0\" if torch.cuda.is_available() else \"cpu\")\n",
        "device"
      ],
      "outputs": [
        {
          "output_type": "execute_result",
          "execution_count": 26,
          "data": {
            "text/plain": "device(type='cuda', index=0)"
          },
          "metadata": {}
        }
      ],
      "execution_count": 26,
      "metadata": {
        "colab": {
          "base_uri": "https://localhost:8080/"
        },
        "executionInfo": {
          "elapsed": 33,
          "status": "ok",
          "timestamp": 1687351321744,
          "user": {
            "displayName": "Mohamed Akram Abdelfattah Ahmed",
            "userId": "14915064279616846998"
          },
          "user_tz": -180
        },
        "id": "uC2EwrVx8sGc",
        "outputId": "1f14308b-ff6a-42e7-e8fc-e3ba83addc9d"
      }
    },
    {
      "cell_type": "code",
      "source": [
        "feature_extractor.verbose = False"
      ],
      "outputs": [],
      "execution_count": 27,
      "metadata": {
        "executionInfo": {
          "elapsed": 29,
          "status": "ok",
          "timestamp": 1687351321746,
          "user": {
            "displayName": "Mohamed Akram Abdelfattah Ahmed",
            "userId": "14915064279616846998"
          },
          "user_tz": -180
        },
        "id": "hskssDwu9sto"
      }
    },
    {
      "cell_type": "code",
      "source": [
        "faceDetector = FaceDetector(cascadeClassifier, \\\n",
        "                            feature_extractor,\\\n",
        "\n",
        "                            window_size=(19,19),\\\n",
        "                            scale_dist=1.1,\n",
        "                            max_size=300,\n",
        "                            stride=5,\n",
        "\n",
        "                            device=device,\n",
        "                            use_percentile=False,\n",
        "                            makeθ0=False,\n",
        "\n",
        "                            verbose=False,\n",
        "                            normalize_subwindows=False,\n",
        "                            report_time=True,\n",
        "                            use_sklearn=False\n",
        "                            )"
      ],
      "outputs": [],
      "execution_count": 28,
      "metadata": {
        "executionInfo": {
          "elapsed": 29,
          "status": "ok",
          "timestamp": 1687351321747,
          "user": {
            "displayName": "Mohamed Akram Abdelfattah Ahmed",
            "userId": "14915064279616846998"
          },
          "user_tz": -180
        },
        "id": "NpldYAZ6gIpx"
      }
    },
    {
      "cell_type": "code",
      "source": [
        "for i in show_images:\n",
        "  # >>>> Read image <<<<\n",
        "  img = Image.open(all_images_names[i])\n",
        "  print(img.mode)\n",
        "  img = np.array(img)\n",
        "  org_sh = img.shape\n",
        "  if not rectangles_only:\n",
        "    plt.imshow(img)\n",
        "    plt.show()\n",
        "  # get subwindows\n",
        "  img2 = cv2.cvtColor(img, cv2.COLOR_BGR2GRAY)\n",
        "  print(img2.shape)\n",
        "\n",
        "  # >>>> Normalize image <<<<\n",
        "  # normalize image\n",
        "  # img2 = (img2 - img2.mean()) / img2.std()\n",
        "  # img2 = cv2.resize(img, resize_to)\n",
        "  # print(img2.shape)\n",
        "\n",
        "  # img2 = cv2.normalize(img2, None, alpha=0, beta=255, norm_type=cv2.NORM_MINMAX, dtype=cv2.CV_8U)\n",
        "  # resize image\n",
        "  # img2 = cv2.resize(img2, (570, 380))\n",
        "\n",
        "  # show image\n",
        "  if not rectangles_only:\n",
        "    plt.imshow(img2, cmap='gray')\n",
        "    plt.show()\n",
        "\n",
        "  # +++++++++++++++++++++\n",
        "  # find face\n",
        "  # >>>> Find face <<<<\n",
        "  face_coordinates, region_max_conf, max_conf , timing=\\\n",
        "                  faceDetector.find_face(img2, \\\n",
        "                                         predict=True,\n",
        "                                         confidence=True)\n",
        "  print(timing)\n",
        "  # region_max_conf *= img.shape[0] / resize_to[0]\n",
        "  # ++++++++++++++++++++\n",
        "  # rectangles\n",
        "  # >>>> Draw rectangles <<<<\n",
        "  tmp_img = img.copy()\n",
        "  for face_coordinate in face_coordinates:\n",
        "      for x1, y1, x2, y2 in face_coordinate:\n",
        "          cv2.rectangle(tmp_img, (x1, y1), (x2, y2), (0, 255, 0), 2)\n",
        "  # if not rectangles_only:\n",
        "  plt.imshow(tmp_img)\n",
        "  plt.show()\n",
        "\n",
        "  # >>>> Draw rectangles with max confidence <<<<\n",
        "  # amx confidence\n",
        "  tmp_img = img.copy()\n",
        "  x1, y1, x2, y2 = region_max_conf\n",
        "  cv2.rectangle(tmp_img, (x1, y1), (x2, y2), (0, 255, 0), 2)\n",
        "  plt.imshow(tmp_img)\n",
        "  plt.show()\n",
        "\n"
      ],
      "outputs": [
        {
          "output_type": "display_data",
          "data": {
            "text/plain": "Output hidden; open in https://colab.research.google.com to view."
          },
          "metadata": {}
        }
      ],
      "execution_count": 29,
      "metadata": {
        "colab": {
          "base_uri": "https://localhost:8080/",
          "height": 1000,
          "output_embedded_package_id": "174gV_zanewyZwX2x5G1usGI7awoUssk-"
        },
        "executionInfo": {
          "elapsed": 36453,
          "status": "ok",
          "timestamp": 1687351358172,
          "user": {
            "displayName": "Mohamed Akram Abdelfattah Ahmed",
            "userId": "14915064279616846998"
          },
          "user_tz": -180
        },
        "id": "8E4uukfowl_h",
        "outputId": "7910c0f7-15ee-4dbb-b98a-716dae2ae31b"
      }
    },
    {
      "cell_type": "code",
      "source": [],
      "outputs": [],
      "execution_count": null,
      "metadata": {
        "id": "hGloIWbk4KYW"
      }
    },
    {
      "cell_type": "code",
      "source": [],
      "outputs": [],
      "execution_count": null,
      "metadata": {
        "executionInfo": {
          "elapsed": 93,
          "status": "aborted",
          "timestamp": 1687345437361,
          "user": {
            "displayName": "Mohamed Akram Abdelfattah Ahmed",
            "userId": "14915064279616846998"
          },
          "user_tz": -180
        },
        "id": "WD5ug93YZi5i"
      }
    }
  ],
  "metadata": {
    "colab": {
      "provenance": []
    },
    "accelerator": "GPU",
    "gpuClass": "standard",
    "microsoft": {
      "ms_spell_check": {
        "ms_spell_check_language": "en"
      }
    },
    "kernel_info": {
      "name": "python38-azureml-pt-tf"
    },
    "language_info": {
      "name": "python",
      "version": "3.8.5",
      "mimetype": "text/x-python",
      "codemirror_mode": {
        "name": "ipython",
        "version": 3
      },
      "pygments_lexer": "ipython3",
      "nbconvert_exporter": "python",
      "file_extension": ".py"
    },
    "kernelspec": {
      "name": "python38-azureml-pt-tf",
      "language": "python",
      "display_name": "Python 3.8 - Pytorch and Tensorflow"
    },
    "nteract": {
      "version": "nteract-front-end@1.0.0"
    }
  },
  "nbformat": 4,
  "nbformat_minor": 0
}