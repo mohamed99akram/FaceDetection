{
 "cells": [
  {
   "cell_type": "code",
   "execution_count": 1,
   "metadata": {},
   "outputs": [],
   "source": [
    "import sys; sys.path.append(\"../\")\n",
    "from feature_extractor import FeatureExtractor\n",
    "import torch\n",
    "import numpy as np\n",
    "import time\n",
    "from cascade import CascadeClassifier"
   ]
  },
  {
   "cell_type": "code",
   "execution_count": 2,
   "metadata": {},
   "outputs": [
    {
     "data": {
      "text/plain": [
       "True"
      ]
     },
     "execution_count": 2,
     "metadata": {},
     "output_type": "execute_result"
    }
   ],
   "source": [
    "torch.cuda.is_available()"
   ]
  },
  {
   "cell_type": "code",
   "execution_count": 3,
   "metadata": {},
   "outputs": [],
   "source": [
    "parent = '../hFeatures/'"
   ]
  },
  {
   "attachments": {},
   "cell_type": "markdown",
   "metadata": {},
   "source": [
    "# Features Extraction"
   ]
  },
  {
   "cell_type": "code",
   "execution_count": 4,
   "metadata": {},
   "outputs": [],
   "source": [
    "\n",
    "feature_extractor = FeatureExtractor(shape=(19,19), \n",
    "                                     percentile=20,\n",
    "                                     all_features_file=parent + \"all_features.npz\",\n",
    "                                     selected_features_file=parent + \"selected_features.npz\",\n",
    "                                     labels_file=parent + \"labels.npy\",\n",
    "                                     indecies_file=parent + \"indecies.npy\",)"
   ]
  },
  {
   "cell_type": "code",
   "execution_count": 5,
   "metadata": {},
   "outputs": [
    {
     "name": "stdout",
     "output_type": "stream",
     "text": [
      "done\n"
     ]
    }
   ],
   "source": [
    "\n",
    "# feature_extractor.extractFeatures(pos_path='../new_data/train/face', \n",
    "#                                   neg_path='../new_data/train/non-face')\n",
    "print('done')\n"
   ]
  },
  {
   "cell_type": "code",
   "execution_count": 6,
   "metadata": {},
   "outputs": [],
   "source": [
    "# del feature_extractor.f2\n",
    "# del feature_extractor.f3\n",
    "# del feature_extractor.f4"
   ]
  },
  {
   "cell_type": "code",
   "execution_count": 7,
   "metadata": {},
   "outputs": [
    {
     "name": "stdout",
     "output_type": "stream",
     "text": [
      "(12792, 10854) (10854,)\n",
      "done\n"
     ]
    }
   ],
   "source": [
    "indecies, X = feature_extractor.selectPercentile()\n",
    "y = np.load(parent + 'labels.npy')\n",
    "print(X.shape, y.shape)\n",
    "print('done')\n"
   ]
  },
  {
   "attachments": {},
   "cell_type": "markdown",
   "metadata": {},
   "source": [
    "# Training"
   ]
  },
  {
   "cell_type": "code",
   "execution_count": null,
   "metadata": {},
   "outputs": [],
   "source": [
    "s_t = time.time()\n",
    "cascadeClassifier= CascadeClassifier(X, y, batchsize=500, verbose=True, layers=[200])\n",
    "tr_acc = cascadeClassifier.train()\n",
    "\n",
    "cascadeClassifier.save(parent + 'cascadeClassifier.pkl')\n",
    "\n",
    "print('accuracy: ', tr_acc)\n",
    "print('time taken: ', time.time() - s_t, 's')\n",
    "print('done')"
   ]
  },
  {
   "attachments": {},
   "cell_type": "markdown",
   "metadata": {},
   "source": [
    "# Testing"
   ]
  },
  {
   "cell_type": "code",
   "execution_count": 9,
   "metadata": {},
   "outputs": [],
   "source": [
    "# accuracy imports\n",
    "from sklearn.metrics import accuracy_score, f1_score, precision_score, recall_score, classification_report, confusion_matrix\n"
   ]
  },
  {
   "cell_type": "code",
   "execution_count": 11,
   "metadata": {},
   "outputs": [
    {
     "name": "stdout",
     "output_type": "stream",
     "text": [
      "Now reading dataset...\n",
      "Now extracting features from dataset...\n",
      "(185, 2715) (2715,)\n",
      "test accuracy:  0.9771639042357274\n",
      "time taken:  5.589809894561768 s\n"
     ]
    }
   ],
   "source": [
    "s_t = time.time()\n",
    "t_f_idx_map, t_features, t_labels = feature_extractor.extractFeaturesByIndecies(pos_path='../new_data/test/face', \n",
    "                                            neg_path='../new_data/test/non-face',\n",
    "                                            cascadeClassifier=cascadeClassifier)\n",
    "print(t_features.shape, t_labels.shape)\n",
    "predictions = cascadeClassifier.predict(t_features, t_f_idx_map)\n",
    "print('test accuracy: ', np.sum(predictions == t_labels) / t_labels.shape[0])\n",
    "print('time taken: ', time.time() - s_t, 's')"
   ]
  },
  {
   "cell_type": "code",
   "execution_count": 12,
   "metadata": {},
   "outputs": [
    {
     "name": "stdout",
     "output_type": "stream",
     "text": [
      "accuracy:  0.9771639042357274\n",
      "f1 score:  0.9658213891951488\n",
      "precision:  0.9636963696369637\n",
      "recall:  0.9679558011049724\n",
      "confusion matrix: \n",
      " [[1777   33]\n",
      " [  29  876]]\n",
      "classification report: \n",
      "               precision    recall  f1-score   support\n",
      "\n",
      "           0       0.98      0.98      0.98      1810\n",
      "           1       0.96      0.97      0.97       905\n",
      "\n",
      "    accuracy                           0.98      2715\n",
      "   macro avg       0.97      0.97      0.97      2715\n",
      "weighted avg       0.98      0.98      0.98      2715\n",
      "\n"
     ]
    }
   ],
   "source": [
    "# report\n",
    "print('accuracy: ', accuracy_score(t_labels, predictions))\n",
    "print('f1 score: ', f1_score(t_labels, predictions))\n",
    "print('precision: ', precision_score(t_labels, predictions))\n",
    "print('recall: ', recall_score(t_labels, predictions))\n",
    "print('confusion matrix: \\n', confusion_matrix(t_labels, predictions))\n",
    "print('classification report: \\n', classification_report(t_labels, predictions))\n"
   ]
  },
  {
   "cell_type": "code",
   "execution_count": null,
   "metadata": {},
   "outputs": [],
   "source": []
  }
 ],
 "metadata": {
  "kernelspec": {
   "display_name": "base",
   "language": "python",
   "name": "python3"
  },
  "language_info": {
   "codemirror_mode": {
    "name": "ipython",
    "version": 3
   },
   "file_extension": ".py",
   "mimetype": "text/x-python",
   "name": "python",
   "nbconvert_exporter": "python",
   "pygments_lexer": "ipython3",
   "version": "3.10.9"
  },
  "orig_nbformat": 4
 },
 "nbformat": 4,
 "nbformat_minor": 2
}
