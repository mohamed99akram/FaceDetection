{
 "cells": [
  {
   "cell_type": "code",
   "execution_count": 1,
   "metadata": {},
   "outputs": [],
   "source": [
    "import sys; sys.path.append(\"../\")\n",
    "from feature_extractor import FeatureExtractor\n",
    "import torch\n",
    "import numpy as np\n",
    "import time\n",
    "from cascade import CascadeClassifier"
   ]
  },
  {
   "cell_type": "code",
   "execution_count": 3,
   "metadata": {},
   "outputs": [
    {
     "data": {
      "text/plain": [
       "True"
      ]
     },
     "execution_count": 3,
     "metadata": {},
     "output_type": "execute_result"
    }
   ],
   "source": [
    "torch.cuda.is_available()"
   ]
  },
  {
   "cell_type": "code",
   "execution_count": 4,
   "metadata": {},
   "outputs": [],
   "source": [
    "parent = '../hFeatures/'"
   ]
  },
  {
   "attachments": {},
   "cell_type": "markdown",
   "metadata": {},
   "source": [
    "# Features Extraction"
   ]
  },
  {
   "cell_type": "code",
   "execution_count": 5,
   "metadata": {},
   "outputs": [],
   "source": [
    "\n",
    "feature_extractor = FeatureExtractor(shape=(19,19), \n",
    "                                     percentile=20,\n",
    "                                     all_features_file=parent + \"all_features.npz\",\n",
    "                                     selected_features_file=parent + \"selected_features.npz\",\n",
    "                                     labels_file=parent + \"labels.npy\",\n",
    "                                     indecies_file=parent + \"indecies.npy\",)"
   ]
  },
  {
   "cell_type": "code",
   "execution_count": 7,
   "metadata": {},
   "outputs": [],
   "source": [
    "\n",
    "feature_extractor.extractFeatures(pos_path='../new_data/train/face', \n",
    "                                  neg_path='../new_data/train/non-face')\n",
    "print('done')\n"
   ]
  },
  {
   "cell_type": "code",
   "execution_count": null,
   "metadata": {},
   "outputs": [],
   "source": [
    "del feature_extractor.f2\n",
    "del feature_extractor.f3\n",
    "del feature_extractor.f4"
   ]
  },
  {
   "cell_type": "code",
   "execution_count": null,
   "metadata": {},
   "outputs": [],
   "source": [
    "indecies, X = feature_extractor.selectPercentile()\n",
    "y = np.load(parent + 'labels.npy')\n",
    "print(X.shape, y.shape)\n",
    "print('done')\n"
   ]
  },
  {
   "attachments": {},
   "cell_type": "markdown",
   "metadata": {},
   "source": [
    "# Training"
   ]
  },
  {
   "cell_type": "code",
   "execution_count": null,
   "metadata": {},
   "outputs": [],
   "source": [
    "s_t = time.time()\n",
    "cascadeClassifier= CascadeClassifier(X, y, batchsize=1000, verbose=False, layers=[200])\n",
    "tr_acc = cascadeClassifier.train()\n",
    "\n",
    "cascadeClassifier.save(parent + 'cascadeClassifier.pkl')\n",
    "\n",
    "print('accuracy: ', tr_acc)\n",
    "print('time taken: ', time.time() - s_t, 's')\n",
    "print('done')"
   ]
  },
  {
   "attachments": {},
   "cell_type": "markdown",
   "metadata": {},
   "source": [
    "# Testing"
   ]
  },
  {
   "cell_type": "code",
   "execution_count": null,
   "metadata": {},
   "outputs": [],
   "source": [
    "# accuracy imports\n",
    "from sklearn.metrics import accuracy_score, f1_score, precision_score, recall_score, classification_report, confusion_matrix\n"
   ]
  },
  {
   "cell_type": "code",
   "execution_count": null,
   "metadata": {},
   "outputs": [],
   "source": [
    "s_t = time.time()\n",
    "t_f_idx_map, t_features, t_labels = feature_extractor.extractFeaturesByIndecies(pos_path='face.test/test/face/',\n",
    "                                            neg_path='face.test/test/non-face/',\n",
    "                                            cascadeClassifier=cascadeClassifier)\n",
    "print(t_features.shape, t_labels.shape)\n",
    "predictions = cascadeClassifier.predict(t_features, t_f_idx_map)\n",
    "print('test accuracy: ', np.sum(predictions == t_labels) / t_labels.shape[0])\n",
    "print('time taken: ', time.time() - s_t, 's')"
   ]
  },
  {
   "cell_type": "code",
   "execution_count": null,
   "metadata": {},
   "outputs": [],
   "source": [
    "# report\n",
    "print('accuracy: ', accuracy_score(t_labels, predictions))\n",
    "print('f1 score: ', f1_score(t_labels, predictions))\n",
    "print('precision: ', precision_score(t_labels, predictions))\n",
    "print('recall: ', recall_score(t_labels, predictions))\n",
    "print('confusion matrix: \\n', confusion_matrix(t_labels, predictions))\n",
    "print('classification report: \\n', classification_report(t_labels, predictions))\n"
   ]
  }
 ],
 "metadata": {
  "kernelspec": {
   "display_name": "base",
   "language": "python",
   "name": "python3"
  },
  "language_info": {
   "codemirror_mode": {
    "name": "ipython",
    "version": 3
   },
   "file_extension": ".py",
   "mimetype": "text/x-python",
   "name": "python",
   "nbconvert_exporter": "python",
   "pygments_lexer": "ipython3",
   "version": "3.10.9"
  },
  "orig_nbformat": 4
 },
 "nbformat": 4,
 "nbformat_minor": 2
}
