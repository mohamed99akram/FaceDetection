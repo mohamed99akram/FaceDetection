{
 "cells": [
  {
   "cell_type": "code",
   "execution_count": 1,
   "metadata": {},
   "outputs": [],
   "source": [
    "import sys; sys.path.append(\"../\")\n",
    "from feature_extractor import FeatureExtractor\n",
    "import torch\n",
    "import numpy as np\n",
    "import time\n"
   ]
  },
  {
   "cell_type": "code",
   "execution_count": 2,
   "metadata": {},
   "outputs": [
    {
     "data": {
      "text/plain": [
       "True"
      ]
     },
     "execution_count": 2,
     "metadata": {},
     "output_type": "execute_result"
    }
   ],
   "source": [
    "torch.cuda.is_available()"
   ]
  },
  {
   "cell_type": "code",
   "execution_count": 3,
   "metadata": {},
   "outputs": [],
   "source": [
    "\n",
    "feature_extractor = FeatureExtractor(shape=(19,19), \n",
    "                                     percentile=10,\n",
    "                                     all_features_file=\"Features/all_features2.npz\",\n",
    "                                     selected_features_file=\"Features/selected_features2.npz\",\n",
    "                                     labels_file=\"Features/labels2.npy\",\n",
    "                                     indecies_file=\"Features/indecies2.npy\",)\n"
   ]
  },
  {
   "cell_type": "code",
   "execution_count": 5,
   "metadata": {},
   "outputs": [
    {
     "name": "stdout",
     "output_type": "stream",
     "text": [
      "all_features shape: (63960, 6977)\n",
      "Now, saving all features to all_features2.npz\n",
      "done\n"
     ]
    }
   ],
   "source": [
    "\n",
    "feature_extractor.extractFeatures(pos_path='face.train/train/face', \n",
    "                                  neg_path='face.train/train/non-face')\n",
    "print('done')\n"
   ]
  },
  {
   "cell_type": "code",
   "execution_count": 4,
   "metadata": {},
   "outputs": [],
   "source": [
    "del feature_extractor.f2\n",
    "del feature_extractor.f3\n",
    "del feature_extractor.f4"
   ]
  },
  {
   "cell_type": "code",
   "execution_count": 5,
   "metadata": {},
   "outputs": [
    {
     "name": "stdout",
     "output_type": "stream",
     "text": [
      "Now selecting percentile features\n",
      "done\n"
     ]
    }
   ],
   "source": [
    "_,_= feature_extractor.selectPercentile()\n",
    "print('done')\n"
   ]
  },
  {
   "cell_type": "code",
   "execution_count": 6,
   "metadata": {},
   "outputs": [
    {
     "data": {
      "text/plain": [
       "True"
      ]
     },
     "execution_count": 6,
     "metadata": {},
     "output_type": "execute_result"
    }
   ],
   "source": [
    "a1 = np.load('Features/all_features2.npz')\n",
    "a2 = np.load('Features/all_features.npz')\n",
    "\n",
    "# check both are the same\n",
    "np.all(a1['arr_0'] == a2['arr_0'])"
   ]
  },
  {
   "cell_type": "code",
   "execution_count": 8,
   "metadata": {},
   "outputs": [
    {
     "data": {
      "text/plain": [
       "True"
      ]
     },
     "execution_count": 8,
     "metadata": {},
     "output_type": "execute_result"
    }
   ],
   "source": [
    "a1 = np.load('Features/labels2.npy')\n",
    "a2 = np.load('Features/labels.npy')\n",
    "\n",
    "# check both are the same\n",
    "np.all(a1 == a2)\n"
   ]
  },
  {
   "cell_type": "code",
   "execution_count": 9,
   "metadata": {},
   "outputs": [
    {
     "data": {
      "text/plain": [
       "True"
      ]
     },
     "execution_count": 9,
     "metadata": {},
     "output_type": "execute_result"
    }
   ],
   "source": [
    "a1 = np.load('Features/indecies2.npy')\n",
    "a2 = np.load('Features/indecies.npy')\n",
    "\n",
    "# check both are the same\n",
    "np.all(a1 == a2)\n",
    "\n"
   ]
  },
  {
   "cell_type": "code",
   "execution_count": 10,
   "metadata": {},
   "outputs": [
    {
     "data": {
      "text/plain": [
       "True"
      ]
     },
     "execution_count": 10,
     "metadata": {},
     "output_type": "execute_result"
    }
   ],
   "source": [
    "a1 = np.load('Features/selected_features2.npz')\n",
    "a2 = np.load('Features/selected_features.npz')\n",
    "\n",
    "# check both are the same\n",
    "np.all(a1['arr_0'] == a2['arr_0'])\n",
    "\n"
   ]
  },
  {
   "cell_type": "code",
   "execution_count": null,
   "metadata": {},
   "outputs": [],
   "source": []
  }
 ],
 "metadata": {
  "kernelspec": {
   "display_name": "base",
   "language": "python",
   "name": "python3"
  },
  "language_info": {
   "codemirror_mode": {
    "name": "ipython",
    "version": 3
   },
   "file_extension": ".py",
   "mimetype": "text/x-python",
   "name": "python",
   "nbconvert_exporter": "python",
   "pygments_lexer": "ipython3",
   "version": "3.10.9"
  },
  "orig_nbformat": 4
 },
 "nbformat": 4,
 "nbformat_minor": 2
}
