{
 "cells": [
  {
   "cell_type": "code",
   "execution_count": 2,
   "metadata": {},
   "outputs": [],
   "source": [
    "import sys; sys.path.append('../')\n",
    "# load selectpercentile\n",
    "from sklearn.feature_selection import SelectPercentile, f_classif\n",
    "from cascade import CascadeClassifier\n",
    "import numpy as np\n",
    "import os\n",
    "import pickle as pkl\n",
    "import time\n",
    "from feature_extractor import FeatureExtractor"
   ]
  },
  {
   "cell_type": "code",
   "execution_count": 2,
   "metadata": {},
   "outputs": [],
   "source": [
    "feature_extractor = FeatureExtractor(shape=(19,19),\n",
    "                                     percentile=10,\n",
    "                                     all_features_file='Features/all_features.npz',\n",
    "                                     selected_features_file='Features/selected_features.npz',\n",
    "                                     labels_file='Features/labels.npy',\n",
    "                                     indecies_file='Features/indecies.npy')"
   ]
  },
  {
   "cell_type": "code",
   "execution_count": 3,
   "metadata": {},
   "outputs": [
    {
     "name": "stdout",
     "output_type": "stream",
     "text": [
      "(6396, 6977) (6977,)\n"
     ]
    }
   ],
   "source": [
    "indecies, X = feature_extractor.selectPercentile()\n",
    "y = np.load('Features/labels.npy')\n",
    "print(X.shape, y.shape)"
   ]
  },
  {
   "cell_type": "code",
   "execution_count": 10,
   "metadata": {},
   "outputs": [
    {
     "name": "stdout",
     "output_type": "stream",
     "text": [
      "(6396, 6977)\n",
      "(6977,)\n"
     ]
    }
   ],
   "source": [
    "# # do the following if the file selected_features is not present\n",
    "# X, y, indecies = None, None, None\n",
    "# if not os.path.exists('selected_features.npz'):\n",
    "#     X = np.load('all_features.npz')['arr_0']\n",
    "#     y = np.load('labels.npy')\n",
    "#     selector = SelectPercentile(f_classif, percentile=10)\n",
    "#     indecies = selector.fit(X.T, y).get_support(indices=True)\n",
    "#     X = X[indecies, :]\n",
    "#     np.savez('selected_features.npz', X)\n",
    "#     # save indecies for later use\n",
    "#     np.save('indecies.npy', indecies)\n",
    "# else:\n",
    "#     X = np.load('selected_features.npz')['arr_0']\n",
    "#     y = np.load('labels.npy')\n",
    "#     indecies = np.load('indecies.npy')\n",
    "#     print(X.shape)\n",
    "#     print(y.shape)"
   ]
  },
  {
   "cell_type": "code",
   "execution_count": 11,
   "metadata": {},
   "outputs": [],
   "source": [
    "# !rm -r StrongClassifier\n",
    "# !rm cascadeClassifier.pkl"
   ]
  },
  {
   "cell_type": "code",
   "execution_count": 12,
   "metadata": {},
   "outputs": [
    {
     "name": "stdout",
     "output_type": "stream",
     "text": [
      "2429\n",
      "4548\n",
      "Continue training from layer 33 / 32\n",
      "accuracy:  0.9635946681954995\n",
      "time taken:  1.2926416397094727 s\n"
     ]
    }
   ],
   "source": [
    "s_t = time.time()\n",
    "cascadeClassifier= CascadeClassifier(X, y, batchsize=1000, verbose=False)\n",
    "print(np.sum(y == 1))\n",
    "print(np.sum(y == 0))\n",
    "acc = cascadeClassifier.train()\n",
    "print('accuracy: ', acc)\n",
    "print('time taken: ', time.time() - s_t, 's')\n",
    "# save the classifier\n",
    "cascadeClassifier.save('Features/cascadeClassifier.pkl')"
   ]
  },
  {
   "cell_type": "code",
   "execution_count": 9,
   "metadata": {},
   "outputs": [
    {
     "name": "stdout",
     "output_type": "stream",
     "text": [
      "Now reading dataset...\n",
      "Now extracting features from dataset...\n",
      "(175, 24045) (24045,)\n",
      "test accuracy:  0.9782491162403826\n",
      "time taken:  0.8144936561584473 s\n"
     ]
    }
   ],
   "source": [
    "s_t = time.time()\n",
    "t_f_idx_map, t_features, t_labels = feature_extractor.extractFeaturesByIndecies(pos_path='face.test/test/face/',\n",
    "                                            neg_path='face.test/test/non-face/',\n",
    "                                            cascadeClassifier=cascadeClassifier)\n",
    "print(t_features.shape, t_labels.shape)\n",
    "predictions = cascadeClassifier.predict(t_features, t_f_idx_map)\n",
    "print('test accuracy: ', np.sum(predictions == t_labels) / t_labels.shape[0])\n",
    "print('time taken: ', time.time() - s_t, 's')"
   ]
  },
  {
   "cell_type": "code",
   "execution_count": 11,
   "metadata": {},
   "outputs": [
    {
     "name": "stdout",
     "output_type": "stream",
     "text": [
      "472\n",
      "23573\n",
      "145\n",
      "23900\n"
     ]
    }
   ],
   "source": [
    "print(np.sum(t_labels == 1))\n",
    "print(np.sum(t_labels == 0))\n",
    "print(np.sum(predictions == 1))\n",
    "print(np.sum(predictions == 0))\n"
   ]
  },
  {
   "cell_type": "code",
   "execution_count": null,
   "metadata": {},
   "outputs": [],
   "source": []
  }
 ],
 "metadata": {
  "kernelspec": {
   "display_name": "base",
   "language": "python",
   "name": "python3"
  },
  "language_info": {
   "codemirror_mode": {
    "name": "ipython",
    "version": 3
   },
   "file_extension": ".py",
   "mimetype": "text/x-python",
   "name": "python",
   "nbconvert_exporter": "python",
   "pygments_lexer": "ipython3",
   "version": "3.10.9"
  },
  "orig_nbformat": 4
 },
 "nbformat": 4,
 "nbformat_minor": 2
}
