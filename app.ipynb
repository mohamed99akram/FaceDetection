{
 "cells": [
  {
   "cell_type": "code",
   "execution_count": 22,
   "metadata": {},
   "outputs": [
    {
     "name": "stdout",
     "output_type": "stream",
     "text": [
      "0 4 \n",
      " 40 44\n",
      "\n",
      "4 8 \n",
      " 44 48\n",
      "\n",
      "40 44 \n",
      " 80 84\n",
      "\n",
      "44 48 \n",
      " 84 88\n",
      "\n"
     ]
    }
   ],
   "source": [
    "import scipy\n",
    "import numpy as np\n",
    "\n",
    "emprcl = 2.\n",
    "# emprcl = 24\n",
    "def transformToData(image, wndW, wndH, padX, padY):\n",
    "    \"\"\"Scan the image and get subimage of size = [wndW, wndH],\n",
    "       padding of each subimage is [padX, padY].\n",
    "    \"\"\"\n",
    "    h, w = image.shape\n",
    "    data = []\n",
    "    for y in range(0,h-wndH,padY):\n",
    "        for x in range(0,w-wndW,padX):\n",
    "            data.append(image[y:y+wndH, x:x+wndW])\n",
    "    return data\n",
    "\n",
    "def transformToDataWithScale(image, wndW, wndH, padX, padY, min_size=0.0, max_size=1.0, step=0.5):\n",
    "    height, width = image.shape\n",
    "    data = []\n",
    "\n",
    "    if min_size * min(width, height) < emprcl:\n",
    "        min_size = emprcl / min(width, height)\n",
    "    assert max_size > min_size\n",
    "    assert step > 0.0 and step < 1.0\n",
    "\n",
    "    si = max_size\n",
    "    while True:\n",
    "        scaledimg = np.resize(image, (int(si*height), int(si*width)))\n",
    "        scaleddata = transformToData(scaledimg, wndW, wndH, padX, padY)\n",
    "        data.extend(scaleddata)\n",
    "        if si <= min_size: break\n",
    "        si = si * step\n",
    "        if si < min_size: si = min_size\n",
    "\n",
    "    return data\n",
    "a = np.arange(0, 100).reshape(10, 10)\n",
    "b = transformToDataWithScale(a, 5, 5, 4, 4)\n",
    "for el in b:\n",
    "    print(el[0, 0], el[0, -1],'\\n', el[-1, 0], el[-1, -1])\n",
    "    print()"
   ]
  },
  {
   "cell_type": "code",
   "execution_count": 16,
   "metadata": {},
   "outputs": [
    {
     "name": "stdout",
     "output_type": "stream",
     "text": [
      " 0   1   2   3   4   5   6   7   8   9  \n",
      "10 11 12 13 14 15 16 17 18 19 \n",
      "20 21 22 23 24 25 26 27 28 29 \n",
      "30 31 32 33 34 35 36 37 38 39 \n",
      "40 41 42 43 44 45 46 47 48 49 \n",
      "50 51 52 53 54 55 56 57 58 59 \n",
      "60 61 62 63 64 65 66 67 68 69 \n",
      "70 71 72 73 74 75 76 77 78 79 \n",
      "80 81 82 83 84 85 86 87 88 89 \n",
      "90 91 92 93 94 95 96 97 98 99 \n",
      "\n"
     ]
    }
   ],
   "source": [
    "# print a beautifully\n",
    "def printBeautifully(a):\n",
    "    for row in a:\n",
    "        for el in row:\n",
    "            if el < 10:\n",
    "                print('', el, end='  ')\n",
    "            else:\n",
    "                print(el, end=' ')\n",
    "        print()\n",
    "    print()\n",
    "\n",
    "printBeautifully(a)"
   ]
  },
  {
   "cell_type": "code",
   "execution_count": null,
   "metadata": {},
   "outputs": [],
   "source": []
  }
 ],
 "metadata": {
  "kernelspec": {
   "display_name": "Python 3",
   "language": "python",
   "name": "python3"
  },
  "language_info": {
   "codemirror_mode": {
    "name": "ipython",
    "version": 3
   },
   "file_extension": ".py",
   "mimetype": "text/x-python",
   "name": "python",
   "nbconvert_exporter": "python",
   "pygments_lexer": "ipython3",
   "version": "3.10.6"
  },
  "orig_nbformat": 4
 },
 "nbformat": 4,
 "nbformat_minor": 2
}
