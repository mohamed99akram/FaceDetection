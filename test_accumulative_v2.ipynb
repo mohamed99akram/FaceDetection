{
 "cells": [
  {
   "attachments": {},
   "cell_type": "markdown",
   "metadata": {},
   "source": [
    "### This notebook tests choosing the best classifier. It compares its output with another implmentation of the same algorithm.: aparande\n",
    "### also, it ensures that the best error chosen is the same on the dataset\n"
   ]
  },
  {
   "cell_type": "code",
   "execution_count": 727,
   "metadata": {},
   "outputs": [],
   "source": [
    "import numpy as np\n",
    "from matplotlib import pyplot as plt\n",
    "import time\n",
    "import torch\n",
    "from torch.utils.data import Dataset\n",
    "from torch.utils.data import DataLoader\n",
    "from accumulative import WeakClassifier, OneClassifier"
   ]
  },
  {
   "cell_type": "code",
   "execution_count": 728,
   "metadata": {},
   "outputs": [
    {
     "data": {
      "text/plain": [
       "False"
      ]
     },
     "execution_count": 728,
     "metadata": {},
     "output_type": "execute_result"
    }
   ],
   "source": [
    "device = torch.device(\"cuda:0\" if torch.cuda.is_available() else \"cpu\")\n",
    "torch.cuda.is_available()"
   ]
  },
  {
   "cell_type": "code",
   "execution_count": 729,
   "metadata": {},
   "outputs": [],
   "source": [
    "def EQ(x, y, permittivity=1e-6):\n",
    "    return np.abs(x - y) < permittivity\n",
    "def EQ3(x, y, z, permittivity=1e-4):\n",
    "    return EQ(x, y, permittivity) and EQ(y, z, permittivity)\n",
    "def OK(msg='OK'):\n",
    "    print(\"\\033[32m{}\\033[0m\".format(msg))\n",
    "def NOK(msg='Not Equal'):\n",
    "    print(\"\\033[31m{}\\033[0m\".format(msg))"
   ]
  },
  {
   "attachments": {},
   "cell_type": "markdown",
   "metadata": {},
   "source": [
    "# Theirs"
   ]
  },
  {
   "cell_type": "code",
   "execution_count": 730,
   "metadata": {},
   "outputs": [],
   "source": [
    "class TheirWeakClassifier:\n",
    "    def __init__(self, feature_index, feature_val, threshold, polarity, error):\n",
    "        self.feature_index = feature_index\n",
    "        self.feature_val = feature_val\n",
    "        self.threshold = threshold\n",
    "        self.polarity = polarity\n",
    "        self.error = error\n",
    "    \n",
    "    # make a function for easier access as numpy array, example: np.array(wc)\n",
    "    def __array__(self):\n",
    "        # return tensor.cpu() if members are tensors else np.array\n",
    "        if type(self.feature_index) == torch.Tensor:\n",
    "            return np.array([self.feature_index.cpu().numpy(), self.feature_val.cpu().numpy(), self.threshold.cpu().numpy(), self.polarity.cpu().numpy(), self.error.cpu().numpy()])\n",
    "        else:\n",
    "            return np.array([self.feature_index, self.feature_val, self.threshold, self.polarity, self.error])\n",
    "        \n",
    "    def __str__(self):\n",
    "        return np.array(self).__str__()\n",
    "    \n",
    "def train_weak(X, y, features, weights):\n",
    "    s_t = time.time()\n",
    "\n",
    "    total_pos, total_neg = 0, 0\n",
    "    for w, label in zip(weights, y):\n",
    "        if label == 1:\n",
    "            total_pos += w\n",
    "        else:\n",
    "            total_neg += w\n",
    "\n",
    "    classifiers = []\n",
    "    total_features = X.shape[0]\n",
    "    for index, feature in enumerate(X):\n",
    "        if len(classifiers) % 1000 == 0 and len(classifiers) != 0:\n",
    "            print(\"Trained %d classifiers out of %d\" % (len(classifiers), total_features))\n",
    "\n",
    "        applied_feature = sorted(zip(weights, feature, y), key=lambda x: x[1])\n",
    "\n",
    "        pos_seen, neg_seen = 0, 0\n",
    "        pos_weights, neg_weights = 0, 0\n",
    "        min_error, best_feature, best_threshold, best_polarity = float('inf'), None, None, None\n",
    "        current_idx = 0\n",
    "        ws = []\n",
    "        last_error = 0\n",
    "        pos_seen_list = []\n",
    "        for w, f, label in applied_feature:\n",
    "            ws.append(w)\n",
    "            # min(all before current example are positive and all after are negative, all before current example are negative and all after are positive)\n",
    "            # error = sum of weights of misclassified examples\n",
    "            error = min(neg_weights + total_pos - pos_weights, pos_weights + total_neg - neg_weights)\n",
    "            last_error = error\n",
    "            # print(\"error : \", error)\n",
    "            if error < min_error:\n",
    "                min_error = error\n",
    "                best_feature = (current_idx, f)\n",
    "                best_threshold = f - 0.00001\n",
    "                if neg_weights + total_pos - pos_weights < pos_weights + total_neg - neg_weights:\n",
    "                    best_polarity = 1\n",
    "                else:\n",
    "                    best_polarity = -1\n",
    "\n",
    "\n",
    "            if label == 1:\n",
    "                pos_seen += 1\n",
    "                pos_weights += w\n",
    "            else:\n",
    "                neg_seen += 1\n",
    "                neg_weights += w\n",
    "            current_idx += 1\n",
    "            pos_seen_list.append(pos_seen)\n",
    "\n",
    "        clf = TheirWeakClassifier(best_feature[0], best_feature[1], best_threshold, best_polarity, min_error)\n",
    "        classifiers.append(clf)\n",
    "\n",
    "    print(\"Time taken: %f seconds\" % (time.time() - s_t))\n",
    "    return classifiers\n",
    "\n",
    "def select_best(classifiers, weights, X, y):\n",
    "    best_clf, best_error, best_accuracy = None, float('inf'), None\n",
    "    xt = X.T\n",
    "    aaa = []\n",
    "    for i, clf in enumerate(classifiers):\n",
    "        error, accuracy = 0, []\n",
    "        bbb = []\n",
    "        for data, w, yc in zip(xt, weights, y):\n",
    "            classification = 1 if data[i] * clf.polarity <= clf.threshold * clf.polarity else 0\n",
    "            correctness = classification != yc\n",
    "            accuracy.append(correctness)\n",
    "            bbb.append(w * correctness)\n",
    "            error += w * correctness\n",
    "        if error < best_error:\n",
    "            best_clf, best_error, best_accuracy = clf, error, accuracy\n",
    "        aaa.append(bbb)\n",
    "    return best_clf, best_error, best_accuracy, aaa\n"
   ]
  },
  {
   "cell_type": "code",
   "execution_count": 731,
   "metadata": {},
   "outputs": [],
   "source": [
    "# n_features = 16000\n",
    "# n_samples = 15000\n",
    "# n_features = 3\n",
    "# n_samples = 10\n",
    "n_features = 5\n",
    "n_samples = 15\n",
    "n_classes = 2\n",
    "def generate_data():\n",
    "    X = np.random.randn(n_features, n_samples)\n",
    "    # X = np.sort(X, axis=1)\n",
    "    y = np.random.randint(0, n_classes, n_samples)\n",
    "    # y = np.array([1 if i == 1 else -1 for i in y])\n",
    "    weights = np.random.rand(n_samples)\n",
    "    weights = weights / np.sum(weights)\n",
    "    return X, y, weights\n",
    "X, y, weights = generate_data()"
   ]
  },
  {
   "cell_type": "code",
   "execution_count": 732,
   "metadata": {},
   "outputs": [],
   "source": [
    "# np.save(\"X.npy\", X)\n",
    "# np.save(\"y.npy\", y)\n",
    "# np.save(\"weights.npy\", weights)\n"
   ]
  },
  {
   "cell_type": "code",
   "execution_count": 733,
   "metadata": {},
   "outputs": [],
   "source": [
    "# X = np.load(\"X.npy\")\n",
    "# y = np.load(\"y.npy\")\n",
    "# weights = np.load(\"weights.npy\")\n"
   ]
  },
  {
   "cell_type": "code",
   "execution_count": 734,
   "metadata": {},
   "outputs": [
    {
     "name": "stdout",
     "output_type": "stream",
     "text": [
      "Time taken: 0.000497 seconds\n"
     ]
    }
   ],
   "source": [
    "s_t = time.time()\n",
    "\n",
    "total_pos, total_neg = 0, 0\n",
    "for w, label in zip(weights, y):\n",
    "    if label == 1:\n",
    "        total_pos += w\n",
    "    else:\n",
    "        total_neg += w\n",
    "\n",
    "classifiers = []\n",
    "total_features = X.shape[0]\n",
    "for index, feature in enumerate(X):\n",
    "    if len(classifiers) % 1000 == 0 and len(classifiers) != 0:\n",
    "        print(\"Trained %d classifiers out of %d\" % (len(classifiers), total_features))\n",
    "\n",
    "    applied_feature = sorted(zip(weights, feature, y), key=lambda x: x[1])\n",
    "\n",
    "    pos_seen, neg_seen = 0, 0\n",
    "    pos_weights, neg_weights = 0, 0\n",
    "    min_error, best_feature, best_threshold, best_polarity = float('inf'), None, None, None\n",
    "    current_idx = 0\n",
    "    ws = []\n",
    "    last_error = 0\n",
    "    pos_seen_list = []\n",
    "    for w, f, label in applied_feature:\n",
    "        ws.append(w)\n",
    "        # min(all before current example are positive and all after are negative, all before current example are negative and all after are positive)\n",
    "        # error = sum of weights of misclassified examples\n",
    "        error = min(neg_weights + total_pos - pos_weights, pos_weights + total_neg - neg_weights)\n",
    "        last_error = error\n",
    "        # print(\"error : \", error)\n",
    "        if error < min_error:\n",
    "            min_error = error\n",
    "            # best_feature = features[index]\n",
    "            best_feature = (current_idx, f)\n",
    "            best_threshold = f - 0.00001\n",
    "            # best_polarity = 1 if pos_seen > neg_seen else -1\n",
    "            if neg_weights + total_pos - pos_weights < pos_weights + total_neg - neg_weights:\n",
    "                best_polarity = 1\n",
    "            else:\n",
    "                best_polarity = -1\n",
    "                \n",
    "\n",
    "        if label == 1:\n",
    "            pos_seen += 1\n",
    "            pos_weights += w\n",
    "        else:\n",
    "            neg_seen += 1\n",
    "            neg_weights += w\n",
    "        current_idx += 1\n",
    "        pos_seen_list.append(pos_seen)\n",
    "\n",
    "    # clf = WeakClassifier(best_feature[0], best_feature[1], best_threshold, best_polarity)\n",
    "    clf = OneClassifier(best_feature[0], best_feature[1], best_threshold, best_polarity, min_error)\n",
    "    classifiers.append(clf)\n",
    "\n",
    "print(\"Time taken: %f seconds\" % (time.time() - s_t))"
   ]
  },
  {
   "cell_type": "code",
   "execution_count": 735,
   "metadata": {},
   "outputs": [
    {
     "name": "stdout",
     "output_type": "stream",
     "text": [
      "Best classifier: index 0, threshold 0.329738, polarity 1, error 0.044251\n",
      "\u001b[32mWeights sum to 1\u001b[0m\n",
      "Finished 0 iterations\n",
      "\u001b[32mBest error is correct\u001b[0m\n"
     ]
    }
   ],
   "source": [
    "L = 1\n",
    "for i in range(L):\n",
    "    if L > 1:\n",
    "        X, y, weights = generate_data()\n",
    "    weak_classifiers = WeakClassifier(X, y, weights, 1000, False, False, delta=0.00001)\n",
    "    best_index, best_threshold, best_polarity, best_error, classifiers4, LW, RW = weak_classifiers.chooseClassifier()\n",
    "    if L == 1:\n",
    "        print(\"Best classifier: index %d, threshold %f, polarity %d, error %f\" % (best_index, best_threshold, best_polarity, best_error))\n",
    "\n",
    "    try:\n",
    "        assert (LW[0] + RW[0] + LW[-1] + RW[-1] - 1 < 0.00001).all(), 'NOT EQUAL'\n",
    "        OK('Weights sum to 1')\n",
    "    except:\n",
    "        NOK('Weights do not sum to 1')\n",
    "        \n",
    "    \n",
    "    datas = X.T\n",
    "    compared_error = 0\n",
    "    for data, w, yc in zip(datas, weights, y):\n",
    "        classification = 1 if data[best_index] * best_polarity <= best_threshold * best_polarity else 0\n",
    "        correctness = classification != yc\n",
    "        compared_error += w * correctness\n",
    "\n",
    "    \n",
    "    if i % 100 == 0:\n",
    "        print(\"Finished %d iterations\" % i)\n",
    "    try:\n",
    "        assert abs(compared_error - best_error) < 0.0000001, 'NOT EQUAL'\n",
    "        OK('Best error is correct')\n",
    "    except:\n",
    "        NOK('Best error is not correct')\n",
    "        print(\"Compared error: %f\" % compared_error)\n",
    "        print(\"Best error: %f\" % best_error)\n",
    "        \n",
    "\n",
    "        print(\"Compared error: %f\" % compared_error)\n",
    "\n",
    "        for i, clf in enumerate(classifiers4):\n",
    "            error = 0\n",
    "            for data, w, yc in zip(datas, weights, y):\n",
    "                classification = 1 if data[i] * clf.polarity >= clf.threshold * clf.polarity else 0\n",
    "                correctness = classification != yc\n",
    "                error += w * correctness\n",
    "            print(\"Error: %f\" % error, end=' ')\n",
    "            print(f'Polarity: {clf.polarity}', '--------' if error == best_error else '')\n",
    "\n",
    "        print()\n",
    "        for i, clf in enumerate(classifiers4):\n",
    "            error = 0\n",
    "            for data, w, yc in zip(datas, weights, y):\n",
    "                classification = 1 if data[i] * clf.polarity <= clf.threshold * clf.polarity else 0\n",
    "                # classification = classification if clf.polarity == 1 else 1 - classification\n",
    "                # classification = 1 if data[i]  >= clf.threshold else 0\n",
    "                # correctness = classification == yc\n",
    "                correctness = classification != yc\n",
    "                error += w * correctness\n",
    "            print(\"Error2: %f\" % error, end=' ')\n",
    "            print(f'Polarity: {clf.polarity}','--------' if error == best_error else '')\n",
    "        print()\n",
    "        for i, clf in enumerate(classifiers4):\n",
    "            error = 0\n",
    "            for data, w, yc in zip(datas, weights, y):\n",
    "                classification = 1 if data[i] * clf.polarity >= clf.threshold * clf.polarity else 0\n",
    "                correctness = classification == yc\n",
    "                correctness = classification != yc\n",
    "                error += w * correctness\n",
    "            print(\"Error2: %f\" % error, end=' ')\n",
    "            print(f'Polarity: {clf.polarity}','--------' if error == best_error else '')\n",
    "\n",
    "        print()\n",
    "        for i, clf in enumerate(classifiers4):\n",
    "            error = 0\n",
    "            for data, w, yc in zip(datas, weights, y):\n",
    "                classification = 1 if data[i] * clf.polarity <= clf.threshold * clf.polarity else 0\n",
    "                correctness = classification == yc\n",
    "                correctness = classification != yc\n",
    "                error += w * correctness\n",
    "            print(\"Error2: %f\" % error, end=' ')\n",
    "            print(f'Polarity: {clf.polarity}','--------' if error == best_error else '')\n",
    "        break"
   ]
  },
  {
   "cell_type": "code",
   "execution_count": 736,
   "metadata": {},
   "outputs": [
    {
     "name": "stdout",
     "output_type": "stream",
     "text": [
      "Time taken: 0.000198 seconds\n",
      "Best classifier: index 9, threshold 0.329738, polarity 1, error 0.044251\n",
      "\u001b[32mBest classifier is correct\u001b[0m\n"
     ]
    }
   ],
   "source": [
    "weak_classifiers2 = train_weak(X, y, None, weights)\n",
    "best_clf2, best_error2, best_accuracy2, aaa2 = select_best(weak_classifiers2, weights, X, y)\n",
    "\n",
    "print(\"Best classifier: index %d, threshold %f, polarity %d, error %f\" % (best_clf2.feature_index, best_clf2.threshold, best_clf2.polarity, best_error))\n",
    "try:\n",
    "    assert EQ(best_error, best_error2), 'NOT EQUAL'\n",
    "    # assert EQ(best_clf2.feature_index, best_index), 'NOT EQUAL'\n",
    "    assert EQ(best_clf2.threshold, best_threshold), 'NOT EQUAL'\n",
    "    assert EQ(best_clf2.polarity, best_polarity), 'NOT EQUAL'\n",
    "    OK('Best classifier is correct')\n",
    "except AssertionError as e:\n",
    "    NOK('Best classifier is not correct')\n",
    "    print(e)"
   ]
  },
  {
   "cell_type": "code",
   "execution_count": 737,
   "metadata": {},
   "outputs": [
    {
     "name": "stdout",
     "output_type": "stream",
     "text": [
      "\u001b[32mclassifier 0 is correct\u001b[0m\n",
      "\u001b[32mclassifier 1 is correct\u001b[0m\n",
      "\u001b[32mclassifier 2 is correct\u001b[0m\n",
      "\u001b[32mclassifier 3 is correct\u001b[0m\n",
      "\u001b[32mclassifier 4 is correct\u001b[0m\n"
     ]
    }
   ],
   "source": [
    "for i in range(len(classifiers4)):\n",
    "    try:\n",
    "        assert EQ3(classifiers4[i].threshold, weak_classifiers2[i].threshold, classifiers[i].threshold), 'θ NOT EQUAL'\n",
    "        assert EQ3(classifiers4[i].polarity, weak_classifiers2[i].polarity, classifiers[i].polarity), 'p NOT EQUAL'\n",
    "        assert EQ3(classifiers4[i].error, weak_classifiers2[i].error, classifiers[i].error), 'e NOT EQUAL'\n",
    "        OK(f'classifier {i} is correct')\n",
    "    except AssertionError as e:\n",
    "        NOK('Classifiers are not equal')\n",
    "        print(e)\n",
    "        print('4', classifiers4[i])\n",
    "        print('1', classifiers[i])\n",
    "        print('2', weak_classifiers2[i])\n",
    "        print()"
   ]
  },
  {
   "cell_type": "code",
   "execution_count": null,
   "metadata": {},
   "outputs": [],
   "source": []
  }
 ],
 "metadata": {
  "kernelspec": {
   "display_name": "base",
   "language": "python",
   "name": "python3"
  },
  "language_info": {
   "codemirror_mode": {
    "name": "ipython",
    "version": 3
   },
   "file_extension": ".py",
   "mimetype": "text/x-python",
   "name": "python",
   "nbconvert_exporter": "python",
   "pygments_lexer": "ipython3",
   "version": "3.10.9"
  },
  "orig_nbformat": 4
 },
 "nbformat": 4,
 "nbformat_minor": 2
}
