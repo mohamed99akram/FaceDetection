{
 "cells": [
  {
   "cell_type": "code",
   "execution_count": 9,
   "metadata": {},
   "outputs": [],
   "source": [
    "# load selectpercentile\n",
    "from sklearn.feature_selection import SelectPercentile, f_classif\n",
    "from cascade import CascadeClassifier\n",
    "import numpy as np\n",
    "import os\n",
    "import pickle as pkl\n",
    "import time"
   ]
  },
  {
   "cell_type": "code",
   "execution_count": 10,
   "metadata": {},
   "outputs": [
    {
     "name": "stdout",
     "output_type": "stream",
     "text": [
      "(6396, 6977)\n",
      "(6977,)\n"
     ]
    }
   ],
   "source": [
    "# do the following if the file all_features_10 is not present\n",
    "X, y, indecies = None, None, None\n",
    "if not os.path.exists('all_features_10.npz'):\n",
    "    X = np.load('all_features.npz')['arr_0']\n",
    "    y = np.load('labels.npy')\n",
    "    selector = SelectPercentile(f_classif, percentile=10)\n",
    "    indecies = selector.fit(X.T, y).get_support(indices=True)\n",
    "    X = X[indecies, :]\n",
    "    np.savez('all_features_10.npz', X)\n",
    "    # save indecies for later use\n",
    "    np.save('indecies.npy', indecies)\n",
    "else:\n",
    "    X = np.load('all_features_10.npz')['arr_0']\n",
    "    y = np.load('labels.npy')\n",
    "    indecies = np.load('indecies.npy')\n",
    "    print(X.shape)\n",
    "    print(y.shape)"
   ]
  },
  {
   "cell_type": "code",
   "execution_count": 11,
   "metadata": {},
   "outputs": [],
   "source": [
    "!rm -r StrongClassifier\n",
    "!rm cascadeClassifier.pkl"
   ]
  },
  {
   "cell_type": "code",
   "execution_count": 12,
   "metadata": {},
   "outputs": [
    {
     "name": "stdout",
     "output_type": "stream",
     "text": [
      "accuracy:  0.9635946681954995\n",
      "time taken:  2480.3796179294586 s\n"
     ]
    }
   ],
   "source": [
    "s_t = time.time()\n",
    "cascadeClassifier= CascadeClassifier(X, y, batchsize=1000, verbose=False)\n",
    "acc = cascadeClassifier.train()\n",
    "print('accuracy: ', acc)\n",
    "print('time taken: ', time.time() - s_t, 's')\n",
    "# save the classifier\n",
    "cascadeClassifier.save('cascadeClassifier.pkl')"
   ]
  },
  {
   "cell_type": "code",
   "execution_count": null,
   "metadata": {},
   "outputs": [],
   "source": []
  }
 ],
 "metadata": {
  "kernelspec": {
   "display_name": "base",
   "language": "python",
   "name": "python3"
  },
  "language_info": {
   "codemirror_mode": {
    "name": "ipython",
    "version": 3
   },
   "file_extension": ".py",
   "mimetype": "text/x-python",
   "name": "python",
   "nbconvert_exporter": "python",
   "pygments_lexer": "ipython3",
   "version": "3.10.9"
  },
  "orig_nbformat": 4
 },
 "nbformat": 4,
 "nbformat_minor": 2
}
