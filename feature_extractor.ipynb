{
 "cells": [
  {
   "cell_type": "code",
   "execution_count": 1,
   "metadata": {},
   "outputs": [],
   "source": [
    "import numpy as np\n",
    "import cv2\n",
    "import os\n",
    "import re\n",
    "from features_description import *\n",
    "from torch.utils.data import Dataset\n",
    "from torch.utils.data import DataLoader\n",
    "import torch.nn as nn\n",
    "import matplotlib.pyplot as plt\n",
    "device = torch.device(\"cuda:0\" if torch.cuda.is_available() else \"cpu\")"
   ]
  },
  {
   "cell_type": "code",
   "execution_count": 3,
   "metadata": {},
   "outputs": [],
   "source": [
    "f2, f3, f4 = describe_features((19,19))"
   ]
  },
  {
   "cell_type": "code",
   "execution_count": 4,
   "metadata": {},
   "outputs": [
    {
     "name": "stdout",
     "output_type": "stream",
     "text": [
      "(34200, 2, 4)\n",
      "(21660, 3, 4)\n",
      "(8100, 4, 4)\n",
      "63960\n"
     ]
    }
   ],
   "source": [
    "print(f2.shape)\n",
    "print(f3.shape)\n",
    "print(f4.shape)\n",
    "\n",
    "print(f2.shape[0] + f3.shape[0] + f4.shape[0])"
   ]
  },
  {
   "attachments": {},
   "cell_type": "markdown",
   "metadata": {},
   "source": [
    "# Read dataset "
   ]
  },
  {
   "cell_type": "code",
   "execution_count": 5,
   "metadata": {},
   "outputs": [],
   "source": [
    "faces_path = 'face.train/train/face'\n",
    "non_faces_path = 'face.train/train/non-face'\n",
    "face_img_names = os.listdir(faces_path)\n",
    "non_face_img_names = os.listdir(non_faces_path)\n",
    "for i in range(len(face_img_names)):\n",
    "    face_img_names[i] = faces_path + '/' + face_img_names[i]\n",
    "for i in range(len(non_face_img_names)):\n",
    "    non_face_img_names[i] = non_faces_path + '/' + non_face_img_names[i]\n",
    "face_img_names = np.array(face_img_names)\n",
    "non_face_img_names = np.array(non_face_img_names)"
   ]
  },
  {
   "cell_type": "code",
   "execution_count": 6,
   "metadata": {},
   "outputs": [
    {
     "name": "stdout",
     "output_type": "stream",
     "text": [
      "(6977, 20, 20) (6977,)\n"
     ]
    }
   ],
   "source": [
    "def get_dataset(face_names, non_face_names):\n",
    "    # return np array of (img, label)\n",
    "    imgs, labels = [], []\n",
    "    for i in range(len(face_names)):\n",
    "        img = cv2.imread(face_names[i], 0)\n",
    "        img = cv2.resize(img, (19, 19))\n",
    "        imgs.append(img)\n",
    "        labels.append(1)\n",
    "    for i in range(len(non_face_names)):\n",
    "        img = cv2.imread(non_face_names[i], 0)\n",
    "        img = cv2.resize(img, (19, 19))\n",
    "        imgs.append(img)\n",
    "        labels.append(-1)\n",
    "    return np.array(imgs), np.array(labels)\n",
    "\n",
    "dataset = get_dataset(face_img_names, non_face_img_names)\n",
    "dataset_ii = getIntegralImage(dataset[0]), dataset[1]\n",
    "print(dataset_ii[0].shape, dataset_ii[1].shape)"
   ]
  },
  {
   "cell_type": "code",
   "execution_count": 7,
   "metadata": {},
   "outputs": [],
   "source": [
    "class Features(Dataset):\n",
    "    def __init__(self, f):\n",
    "        if type(f) == list or type(f) == np.ndarray:\n",
    "            self.f = torch.from_numpy(np.array(f)).type(torch.int64)\n",
    "        else:\n",
    "            self.f = f.type(torch.int64)\n",
    "\n",
    "    def __len__(self):\n",
    "        return self.f.shape[0]\n",
    "    def __getitem__(self, idx):\n",
    "        return self.f[idx]\n",
    "\n",
    "f2d = Features(f2)\n",
    "f3d = Features(f3)\n",
    "f4d = Features(f4)\n",
    "\n",
    "\n",
    "\n",
    "bs = 1000\n",
    "f2d_loader = DataLoader(f2d, batch_size=bs, shuffle=False)\n",
    "f3d_loader = DataLoader(f3d, batch_size=bs, shuffle=False)\n",
    "f4d_loader = DataLoader(f4d, batch_size=bs, shuffle=False)\n"
   ]
  },
  {
   "cell_type": "code",
   "execution_count": 8,
   "metadata": {},
   "outputs": [],
   "source": [
    "iis = dataset_ii[0].astype(int)\n",
    "iis = torch.from_numpy(iis).to(device)\n",
    "ii_f2 = torch.zeros((iis.shape[0], f2.shape[0]))\n",
    "ii_f3 = torch.zeros((iis.shape[0], f3.shape[0]))\n",
    "ii_f4 = torch.zeros((iis.shape[0], f4.shape[0]))\n",
    "for i, f2_b in enumerate(f2d_loader):\n",
    "    f2_b = f2_b.to(device)\n",
    "    ii_f2[:, i*bs:(i+1)*bs] = (getFeatureValue(iis, f2_b[:, 0]) - getFeatureValue(iis, f2_b[:,1])).to('cpu')\n",
    "\n",
    "for i, f3_b in enumerate(f3d_loader):\n",
    "    f3_b = f3_b.to(device)\n",
    "    ii_f3[:, i*bs:(i+1)*bs] = (-getFeatureValue(iis, f3_b[:, 0]) + getFeatureValue(iis, f3_b[:,1]) - getFeatureValue(iis, f3_b[:,2])).to('cpu')\n",
    "\n",
    "for i, f4_b in enumerate(f4d_loader):\n",
    "    f4_b = f4_b.to(device)\n",
    "    ii_f4[:, i*bs:(i+1)*bs] = (-getFeatureValue(iis, f4_b[:, 0]) + getFeatureValue(iis, f4_b[:,1]) + getFeatureValue(iis, f4_b[:,2]) - getFeatureValue(iis, f4_b[:,3])).to('cpu')"
   ]
  },
  {
   "cell_type": "code",
   "execution_count": 9,
   "metadata": {},
   "outputs": [
    {
     "name": "stdout",
     "output_type": "stream",
     "text": [
      "torch.Size([6977, 34200])\n",
      "torch.Size([6977, 21660])\n",
      "torch.Size([6977, 8100])\n"
     ]
    }
   ],
   "source": [
    "print(ii_f2.shape)\n",
    "print(ii_f3.shape)\n",
    "print(ii_f4.shape)\n"
   ]
  },
  {
   "cell_type": "code",
   "execution_count": 10,
   "metadata": {},
   "outputs": [
    {
     "name": "stdout",
     "output_type": "stream",
     "text": [
      "tensor([[ -4.,   2.,   1.],\n",
      "        [ 44., -45., 104.],\n",
      "        [  1.,  -6.,   9.],\n",
      "        ...,\n",
      "        [  0.,  -1.,   1.],\n",
      "        [ -1.,  -8.,  -4.],\n",
      "        [  2.,   0.,  44.]])\n"
     ]
    }
   ],
   "source": [
    "print(ii_f2[:,0:3])\n"
   ]
  },
  {
   "cell_type": "code",
   "execution_count": 11,
   "metadata": {},
   "outputs": [
    {
     "name": "stdout",
     "output_type": "stream",
     "text": [
      "[[0 0 1 1]\n",
      " [1 0 2 1]\n",
      " [2 0 3 1]]\n",
      "tensor([[ -25.,  -25.,  -85.],\n",
      "        [ -71.,  -55., -189.],\n",
      "        [ -28.,  -44., -119.],\n",
      "        ...,\n",
      "        [  -1.,    0.,   -1.],\n",
      "        [-115., -177., -229.],\n",
      "        [ -13.,   -5., -282.]])\n"
     ]
    }
   ],
   "source": [
    "print(f3[1])\n",
    "print(ii_f3[:,0:3])\n"
   ]
  },
  {
   "cell_type": "code",
   "execution_count": 12,
   "metadata": {},
   "outputs": [
    {
     "name": "stdout",
     "output_type": "stream",
     "text": [
      "[[0 0 1 1]\n",
      " [0 1 1 2]\n",
      " [1 0 2 1]\n",
      " [1 1 2 2]]\n",
      "tensor([[ -1.,   3.,   5.],\n",
      "        [ 40.,  81., 110.],\n",
      "        [ -3.,   4.,  76.],\n",
      "        ...,\n",
      "        [  1.,   1.,   1.],\n",
      "        [ -1.,  -6.,  -8.],\n",
      "        [ -1.,  -1.,   4.]])\n"
     ]
    }
   ],
   "source": [
    "print(f4[0])\n",
    "print(ii_f4[:,0:3])\n"
   ]
  },
  {
   "cell_type": "code",
   "execution_count": 15,
   "metadata": {},
   "outputs": [
    {
     "name": "stdout",
     "output_type": "stream",
     "text": [
      "torch.Size([63960, 6977])\n"
     ]
    }
   ],
   "source": [
    "all_features = torch.cat((ii_f2, ii_f3, ii_f4), dim=1)\n",
    "all_features = all_features.t()\n",
    "print(all_features.shape)\n",
    "all_features = all_features.numpy()\n",
    "# save to npy\n",
    "np.savez_compressed('all_features.npz', all_features)\n",
    "# np.save('all_features.npy', all_features)"
   ]
  },
  {
   "cell_type": "code",
   "execution_count": 29,
   "metadata": {},
   "outputs": [
    {
     "name": "stdout",
     "output_type": "stream",
     "text": [
      "[[ 25  21  21  26  38  48  41  82 119 137 140 145 150 151 147 143 137 123\n",
      "  106]\n",
      " [ 23  20  19  22  43  37  67  98 127 137 138 141 148 149 147 144 134 122\n",
      "  116]\n",
      " [ 23  21  18  21  25  27  43  81 104 128 124  94  81  66  72  80  95 115\n",
      "  119]\n",
      " [ 22  34  27  44  50  36  32  48  69 112 100  62  47  35  41  50  55  63\n",
      "  110]\n",
      " [ 53  74  66  44  35  29  44  48  74 128 117  61  53  53  47  59  77  91\n",
      "  107]\n",
      " [ 73  82  70  62  60  55  78  61  76 138 125  87  77  72  43  65  73 102\n",
      "  114]\n",
      " [ 84  90  86  85  91  94  86  75  93 139 133 109  98  92  93 104 111 121\n",
      "  120]\n",
      " [ 89  97 103 110 111 108  99  90  98 138 135 125 129 125 122 130 134 134\n",
      "  128]\n",
      " [ 90  98 113 121 120 114 106  90 103 137 134 124 138 140 142 143 144 141\n",
      "  127]\n",
      " [ 89  95 108 120 122 115 102  90 118 144 141 119 127 140 146 146 144 137\n",
      "  123]\n",
      " [ 88  92 104 118 123 110  92  79 100 116 102 102 120 136 144 144 141 131\n",
      "  116]\n",
      " [ 87  89 101 115 121 107  89  68  69  70  84  89 133 138 144 142 133 124\n",
      "  110]\n",
      " [ 88  85  94 110 110  96  86  77  88  98 104 119 137 141 143 140 128 118\n",
      "  108]\n",
      " [ 88  82  90 101  89  89  95 103 116 116 126 127 119 124 133 132 120 106\n",
      "  103]\n",
      " [ 90  80  88  93  86  66  61  59  69  73  74  92 101 103 120 127 111 102\n",
      "  104]\n",
      " [ 90  80  84  90  98  99  86  88  92  98 103  99 112 110 121 117 103 104\n",
      "   98]\n",
      " [131  79  83  84  93 105 103  92  74  82 107 124 133 128 118 106  92  97\n",
      "  161]\n",
      " [162  76  78  75  77  94 119 116 110 119 135 134 128 113 108 102  93  98\n",
      "  221]\n",
      " [159  80  73  66  68  83  98 109 117 122 123 118 113  96  95  90  79  98\n",
      "  235]] \n",
      " [[ 48  92 115 129 140 153 165 184 209 225 224 215 206 193 184 176 180 163\n",
      "  139]\n",
      " [ 93  97 105 108 113 131 150 170 196 222 230 230 218 199 180 184 223 238\n",
      "  218]\n",
      " [100  91  77  63  55  57  71 105 147 187 209 207 184 174 173 164 174 210\n",
      "  208]\n",
      " [108  90  77  61  47  42  49  65  99 152 179 189 179 178 180 192 187 191\n",
      "  195]\n",
      " [114 101  74  47  32  41  45  54  85 137 184 201 173 154 131 144 186 204\n",
      "  201]\n",
      " [126  96  62  57  44  73  79  55  68 131 201 205 158 129 117 126 156 203\n",
      "  206]\n",
      " [131 106  85  93 114 137 120  77  69 122 199 216 167  98  83 138 150 200\n",
      "  207]\n",
      " [146 135 126 124 143 153 132  84  83 121 192 224 188 130 114 169 180 210\n",
      "  217]\n",
      " [157 147 164 178 177 167 142 101  95 120 191 230 214 174 171 201 221 230\n",
      "  231]\n",
      " [165 146 167 188 190 171 139 104  97 121 191 231 237 234 220 230 238 242\n",
      "  240]\n",
      " [167 145 161 173 169 139  99  90  92 132 195 236 233 245 250 252 253 251\n",
      "  242]\n",
      " [165 139 147 152 128  90  75 101 105 143 201 232 210 194 231 250 253 252\n",
      "  234]\n",
      " [156 130 125 107  78  70  64  71  88 131 172 199 190 148 183 229 246 250\n",
      "  221]\n",
      " [150 119  88  68  69  73  71  65  64  90 133 169 183 127 141 198 231 243\n",
      "  210]\n",
      " [137 111  71  63  73  81  85  97 124 152 190 210 207 143 114 178 220 238\n",
      "  199]\n",
      " [134 109  75  52  36  50  72  84 116 155 175 181 184 139 103 170 216 239\n",
      "  191]\n",
      " [120 113  88  69  40  34  82 123 147 169 150 110 124 111 120 175 216 241\n",
      "  180]\n",
      " [120 116  94  81  76  46  43  81 156 179 153 163 184 147 156 187 226 247\n",
      "  176]\n",
      " [ 92 113  85  65  75  66  66  69 107 131 153 188 190 165 172 202 235 241\n",
      "  142]]\n"
     ]
    }
   ],
   "source": [
    "print(dataset[0][0],'\\n', dataset[0][1])"
   ]
  },
  {
   "cell_type": "code",
   "execution_count": null,
   "metadata": {},
   "outputs": [],
   "source": []
  }
 ],
 "metadata": {
  "kernelspec": {
   "display_name": "base",
   "language": "python",
   "name": "python3"
  },
  "language_info": {
   "codemirror_mode": {
    "name": "ipython",
    "version": 3
   },
   "file_extension": ".py",
   "mimetype": "text/x-python",
   "name": "python",
   "nbconvert_exporter": "python",
   "pygments_lexer": "ipython3",
   "version": "3.10.9"
  },
  "orig_nbformat": 4
 },
 "nbformat": 4,
 "nbformat_minor": 2
}
