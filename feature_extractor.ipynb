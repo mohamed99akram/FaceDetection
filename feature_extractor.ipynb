{
 "cells": [
  {
   "cell_type": "code",
   "execution_count": 24,
   "metadata": {},
   "outputs": [],
   "source": [
    "import numpy as np\n",
    "import cv2\n",
    "import os\n",
    "import re\n",
    "from features_description import *\n",
    "from torch.utils.data import Dataset\n",
    "from torch.utils.data import DataLoader\n",
    "import torch.nn as nn\n",
    "import matplotlib.pyplot as plt"
   ]
  },
  {
   "cell_type": "code",
   "execution_count": 2,
   "metadata": {},
   "outputs": [],
   "source": [
    "f2, f3, f4 = describe_features((19,19))"
   ]
  },
  {
   "cell_type": "code",
   "execution_count": 3,
   "metadata": {},
   "outputs": [
    {
     "data": {
      "text/plain": [
       "63960"
      ]
     },
     "execution_count": 3,
     "metadata": {},
     "output_type": "execute_result"
    }
   ],
   "source": [
    "f2.shape[0] + f3.shape[0] + f4.shape[0]"
   ]
  },
  {
   "attachments": {},
   "cell_type": "markdown",
   "metadata": {},
   "source": [
    "# Read dataset "
   ]
  },
  {
   "cell_type": "code",
   "execution_count": 10,
   "metadata": {},
   "outputs": [],
   "source": [
    "faces_path = 'face.train/train/face'\n",
    "non_faces_path = 'face.train/train/non-face'\n",
    "face_img_names = os.listdir(faces_path)\n",
    "non_face_img_names = os.listdir(non_faces_path)\n",
    "for i in range(len(face_img_names)):\n",
    "    face_img_names[i] = faces_path + '/' + face_img_names[i]\n",
    "for i in range(len(non_face_img_names)):\n",
    "    non_face_img_names[i] = non_faces_path + '/' + non_face_img_names[i]\n",
    "face_img_names = np.array(face_img_names)\n",
    "non_face_img_names = np.array(non_face_img_names)"
   ]
  },
  {
   "cell_type": "code",
   "execution_count": 43,
   "metadata": {},
   "outputs": [],
   "source": [
    "def get_dataset(face_names, non_face_names):\n",
    "    # return np array of (img, label)\n",
    "    imgs, labels = [], []\n",
    "    for i in range(len(face_names)):\n",
    "        img = cv2.imread(face_names[i], 0)\n",
    "        img = cv2.resize(img, (19, 19))\n",
    "        imgs.append(img)\n",
    "        labels.append(1)\n",
    "    for i in range(len(non_face_names)):\n",
    "        img = cv2.imread(non_face_names[i], 0)\n",
    "        img = cv2.resize(img, (19, 19))\n",
    "        imgs.append(img)\n",
    "        labels.append(-1)\n",
    "    return np.array(imgs), np.array(labels)\n",
    "\n",
    "dataset = get_dataset(face_img_names, non_face_img_names)\n",
    "dataset_ii = getIntegralImage(dataset[0]), dataset[1]\n",
    "# for i in range(10):\n",
    "#     plt.imshow(dataset[0][i], cmap='gray')\n",
    "#     plt.show()\n"
   ]
  },
  {
   "cell_type": "code",
   "execution_count": 45,
   "metadata": {},
   "outputs": [
    {
     "name": "stdout",
     "output_type": "stream",
     "text": [
      "[[ 48  92 115 129 140 153 165 184 209 225 224 215 206 193 184 176 180 163\n",
      "  139]\n",
      " [ 93  97 105 108 113 131 150 170 196 222 230 230 218 199 180 184 223 238\n",
      "  218]\n",
      " [100  91  77  63  55  57  71 105 147 187 209 207 184 174 173 164 174 210\n",
      "  208]\n",
      " [108  90  77  61  47  42  49  65  99 152 179 189 179 178 180 192 187 191\n",
      "  195]\n",
      " [114 101  74  47  32  41  45  54  85 137 184 201 173 154 131 144 186 204\n",
      "  201]\n",
      " [126  96  62  57  44  73  79  55  68 131 201 205 158 129 117 126 156 203\n",
      "  206]\n",
      " [131 106  85  93 114 137 120  77  69 122 199 216 167  98  83 138 150 200\n",
      "  207]\n",
      " [146 135 126 124 143 153 132  84  83 121 192 224 188 130 114 169 180 210\n",
      "  217]\n",
      " [157 147 164 178 177 167 142 101  95 120 191 230 214 174 171 201 221 230\n",
      "  231]\n",
      " [165 146 167 188 190 171 139 104  97 121 191 231 237 234 220 230 238 242\n",
      "  240]\n",
      " [167 145 161 173 169 139  99  90  92 132 195 236 233 245 250 252 253 251\n",
      "  242]\n",
      " [165 139 147 152 128  90  75 101 105 143 201 232 210 194 231 250 253 252\n",
      "  234]\n",
      " [156 130 125 107  78  70  64  71  88 131 172 199 190 148 183 229 246 250\n",
      "  221]\n",
      " [150 119  88  68  69  73  71  65  64  90 133 169 183 127 141 198 231 243\n",
      "  210]\n",
      " [137 111  71  63  73  81  85  97 124 152 190 210 207 143 114 178 220 238\n",
      "  199]\n",
      " [134 109  75  52  36  50  72  84 116 155 175 181 184 139 103 170 216 239\n",
      "  191]\n",
      " [120 113  88  69  40  34  82 123 147 169 150 110 124 111 120 175 216 241\n",
      "  180]\n",
      " [120 116  94  81  76  46  43  81 156 179 153 163 184 147 156 187 226 247\n",
      "  176]\n",
      " [ 92 113  85  65  75  66  66  69 107 131 153 188 190 165 172 202 235 241\n",
      "  142]]\n",
      "\n",
      "[[   48   140   255   384   524   677   842  1026  1235  1460  1684  1899\n",
      "   2105  2298  2482  2658  2838  3001  3140]\n",
      " [  141   330   550   787  1040  1324  1639  1993  2398  2845  3299  3744\n",
      "   4168  4560  4924  5284  5687  6088  6445]\n",
      " [  241   521   818  1118  1426  1767  2153  2612  3164  3798  4461  5113\n",
      "   5721  6287  6824  7348  7925  8536  9101]\n",
      " [  349   719  1093  1454  1809  2192  2627  3151  3802  4588  5430  6271\n",
      "   7058  7802  8519  9235  9999 10801 11561]\n",
      " [  463   934  1382  1790  2177  2601  3081  3659  4395  5318  6344  7386\n",
      "   8346  9244 10092 10952 11902 12908 13869]\n",
      " [  589  1156  1666  2131  2562  3059  3618  4251  5055  6109  7336  8583\n",
      "   9701 10728 11693 12679 13785 14994 16161]\n",
      " [  720  1393  1988  2546  3091  3725  4404  5114  5987  7163  8589 10052\n",
      "  11337 12462 13510 14634 15890 17299 18673]\n",
      " [  866  1674  2395  3077  3765  4552  5363  6157  7113  8410 10028 11715\n",
      "  13188 14443 15605 16898 18334 19953 21544]\n",
      " [ 1023  1978  2863  3723  4588  5542  6495  7390  8441  9858 11667 13584\n",
      "  15271 16700 18033 19527 21184 23033 24855]\n",
      " [ 1188  2289  3341  4389  5444  6569  7661  8660  9808 11346 13346 15494\n",
      "  17418 19081 20634 22358 24253 26344 28406]\n",
      " [ 1355  2601  3814  5035  6259  7523  8714  9803 11043 12713 14908 17292\n",
      "  19449 21357 23160 25136 27284 29626 31930]\n",
      " [ 1520  2905  4265  5638  6990  8344  9610 10800 12145 13958 16354 18970\n",
      "  21337 23439 25473 27699 30100 32694 35232]\n",
      " [ 1676  3191  4676  6156  7586  9010 10340 11601 13034 14978 17546 20361\n",
      "  22918 25168 27385 29840 32487 35331 38090]\n",
      " [ 1826  3460  5033  6581  8080  9577 10978 12304 13801 15835 18536 21520\n",
      "  24260 26637 28995 31648 34526 37613 40582]\n",
      " [ 1963  3708  5352  6963  8535 10113 11599 13022 14643 16829 19720 22914\n",
      "  25861 28381 30853 33684 36782 40107 43275]\n",
      " [ 2097  3951  5670  7333  8941 10569 12127 13634 15371 17712 20778 24153\n",
      "  27284 29943 32518 35519 38833 42397 45756]\n",
      " [ 2217  4184  5991  7723  9371 11033 12673 14303 16187 18697 21913 25398\n",
      "  28653 31423 34118 37294 40824 44629 48168]\n",
      " [ 2337  4420  6321  8134  9858 11566 13249 14960 17000 19689 23058 26706\n",
      "  30145 33062 35913 39276 43032 47084 50799]\n",
      " [ 2429  4625  6611  8489 10288 12062 13811 15591 17738 20558 24080 27916\n",
      "  31545 34627 37650 41215 45206 49499 53356]]\n"
     ]
    }
   ],
   "source": [
    "print(dataset[0][1])\n",
    "print()\n",
    "print(dataset_ii[0][1])"
   ]
  },
  {
   "cell_type": "code",
   "execution_count": 21,
   "metadata": {},
   "outputs": [],
   "source": [
    "\n",
    "# class ImageDataset(Dataset):\n",
    "#     def __init__(self, img_names, labels):\n",
    "#         self.img_names = img_names\n",
    "#         self.labels = labels\n",
    "#     def __len__(self):\n",
    "#         return len(self.img_names)\n",
    "#     def __getitem__(self, idx):\n",
    "#         img = cv2.imread(self.img_names[idx])\n",
    "#         img = cv2.cvtColor(img, cv2.COLOR_BGR2GRAY)\n",
    "#         img = cv2.resize(img, (19,19))\n",
    "#         img = img / 255\n",
    "#         img = img.astype(np.float32)\n",
    "#         return img, self.labels[idx]\n",
    "\n",
    "# face_labels = np.ones(face_img_names.shape[0]).astype(np.int32)\n",
    "# non_face_labels = np.ones(non_face_img_names.shape[0]).astype(np.int32) * -1\n",
    "# train_dataset = ImageDataset(np.concatenate((face_img_names, non_face_img_names)), np.concatenate((face_labels, non_face_labels)))\n",
    "\n",
    "# train_loader = DataLoader(train_dataset, batch_size=100, shuffle=True)\n",
    "\n"
   ]
  },
  {
   "cell_type": "code",
   "execution_count": null,
   "metadata": {},
   "outputs": [],
   "source": []
  }
 ],
 "metadata": {
  "kernelspec": {
   "display_name": "base",
   "language": "python",
   "name": "python3"
  },
  "language_info": {
   "codemirror_mode": {
    "name": "ipython",
    "version": 3
   },
   "file_extension": ".py",
   "mimetype": "text/x-python",
   "name": "python",
   "nbconvert_exporter": "python",
   "pygments_lexer": "ipython3",
   "version": "3.10.9"
  },
  "orig_nbformat": 4
 },
 "nbformat": 4,
 "nbformat_minor": 2
}
