{
 "cells": [
  {
   "cell_type": "code",
   "execution_count": 1,
   "metadata": {},
   "outputs": [],
   "source": [
    "import numpy as np\n",
    "from matplotlib import pyplot as plt\n",
    "import time\n",
    "import torch\n",
    "from torch.utils.data import Dataset\n",
    "from torch.utils.data import DataLoader\n"
   ]
  },
  {
   "cell_type": "code",
   "execution_count": 14,
   "metadata": {},
   "outputs": [],
   "source": [
    "class Rect():\n",
    "    def __init__(self, xs, ys, xe, ye):\n",
    "        self.xs = xs # x start\n",
    "        self.ys = ys # y start\n",
    "        self.xe = xe # x end\n",
    "        self.ye = ye # y end\n",
    "\n",
    "    def __array__(self):\n",
    "        return np.array([self.xs, self.ys, self.xe, self.ye])\n"
   ]
  },
  {
   "cell_type": "code",
   "execution_count": 57,
   "metadata": {},
   "outputs": [
    {
     "data": {
      "text/plain": [
       "array([[1, 2, 3, 4, 5, 6, 1]])"
      ]
     },
     "execution_count": 57,
     "metadata": {},
     "output_type": "execute_result"
    }
   ],
   "source": [
    "np.array([(*np.array([1,2,3]), *np.array([4,5,6]),1)])"
   ]
  },
  {
   "cell_type": "code",
   "execution_count": 58,
   "metadata": {},
   "outputs": [],
   "source": [
    "def describe_features(shape):\n",
    "    rect2 = []\n",
    "    rect3 = []\n",
    "    rect4 = []\n",
    "    height, width = shape\n",
    "    cnt = 0\n",
    "    for i in range(height):\n",
    "        for j in range(width):\n",
    "            for k in range(1, height):\n",
    "                for l in range(1, width):\n",
    "                    cnt += 1\n",
    "                    # @ 2 features\n",
    "                    # Horizontal [-][+]\n",
    "                    if i + k < height and j + 2 * l < width:\n",
    "                        # start positive i, start positive j, end positive i, end positive j\n",
    "                        rect_p = Rect(i, j + l, i + k, j + 2 * l)\n",
    "                        # start negative i, start negative j, end negative i, end negative j\n",
    "                        rect_n = Rect(i, j, i + k, j + l)\n",
    "                        rect2.append(\n",
    "                            # (np.array(rect_p), np.array(rect_n)))\n",
    "                            (*np.array(rect_p), *np.array(rect_n), 0))\n",
    "\n",
    "                    # Vertical #+\n",
    "                        # -\n",
    "                    if i + 2 * k < height and j + l < width:\n",
    "                        rect_p = Rect(i, j, i + k, j + l)\n",
    "                        rect_n = Rect(i + k, j, i + 2 * k, j + l)\n",
    "                        rect2.append(\n",
    "                            (*np.array(rect_p), *np.array(rect_n), 1))\n",
    "\n",
    "                    # @ 3 features\n",
    "                    # Horizontal [-][+][-]\n",
    "                    if i + k < height and j + 3 * l < width:\n",
    "                        rect_n1 = Rect(i, j, i + k, j + l)\n",
    "                        rect_p = Rect(i, j + l, i + k, j + 2 * l)\n",
    "                        rect_n2 = Rect(i, j + 2 * l, i + k, j + 3 * l)\n",
    "                        rect3.append(\n",
    "                            (np.array(rect_n1), np.array(rect_p), np.array(rect_n2)))\n",
    "\n",
    "                    # Vertical #-\n",
    "                        # +\n",
    "                        # -\n",
    "                    if i + 3 * k < height and j + l < width:\n",
    "                        rect_n1 = Rect(i, j, i + k, j + l)\n",
    "                        rect_p = Rect(i + k, j, i + 2 * k, j + l)\n",
    "                        rect_n2 = Rect(i + 2 * k, j, i + 3 * k, j + l)\n",
    "                        rect3.append((np.array(rect_n1),np.array(rect_p),np.array(rect_n2)))\n",
    "\n",
    "                    # @ 4 features\n",
    "                    # [-][+]\n",
    "                    # [+][-]\n",
    "                    if i + 2 * k < height and j + 2 * l < width:\n",
    "                        rect_n1 = Rect(i, j, i + k, j + l)\n",
    "                        rect_p = Rect(i, j + l, i + k, j + 2 * l)\n",
    "                        rect_p2 = Rect(i + k, j, i + 2 * k, j + l)\n",
    "                        rect_n2 = Rect(i + k, j + l, i + 2 * k, j + 2 * l)\n",
    "                        rect4.append((np.array(rect_n1),np.array(rect_p),np.array(rect_p2),np.array(rect_n2)))\n",
    "    return np.array(rect2), np.array(rect3), np.array(rect4), cnt\n"
   ]
  },
  {
   "cell_type": "code",
   "execution_count": 59,
   "metadata": {},
   "outputs": [
    {
     "name": "stdout",
     "output_type": "stream",
     "text": [
      "CPU times: user 2 µs, sys: 0 ns, total: 2 µs\n",
      "Wall time: 4.53 µs\n"
     ]
    }
   ],
   "source": [
    "%time\n",
    "f2, f3, f4, c= describe_features((24,24))"
   ]
  },
  {
   "cell_type": "code",
   "execution_count": 35,
   "metadata": {},
   "outputs": [
    {
     "name": "stdout",
     "output_type": "stream",
     "text": [
      "(72864, 2, 4)\n",
      "(46368, 3, 4)\n",
      "(17424, 4, 4)\n",
      "136656\n",
      "304704\n"
     ]
    }
   ],
   "source": [
    "print(f2.shape)\n",
    "print(f3.shape)\n",
    "print(f4.shape)\n",
    "print(f2.shape[0] + f3.shape[0] + f4.shape[0])\n",
    "print(c)"
   ]
  },
  {
   "attachments": {},
   "cell_type": "markdown",
   "metadata": {},
   "source": [
    "# Features Again"
   ]
  },
  {
   "cell_type": "code",
   "execution_count": null,
   "metadata": {},
   "outputs": [],
   "source": [
    "def featuresAgain(shape):\n",
    "    height, width = shape\n",
    "    rect2 = []\n",
    "    rect3 = []\n",
    "    rect4 = []\n",
    "    "
   ]
  },
  {
   "cell_type": "code",
   "execution_count": 36,
   "metadata": {},
   "outputs": [],
   "source": [
    "fkak = np.load('/home/akram/CMP4/GP/Try/ft.npy')\n"
   ]
  },
  {
   "cell_type": "code",
   "execution_count": 38,
   "metadata": {},
   "outputs": [
    {
     "data": {
      "text/plain": [
       "(162336, 5)"
      ]
     },
     "execution_count": 38,
     "metadata": {},
     "output_type": "execute_result"
    }
   ],
   "source": [
    "fkak.shape"
   ]
  },
  {
   "cell_type": "code",
   "execution_count": 50,
   "metadata": {},
   "outputs": [
    {
     "name": "stdout",
     "output_type": "stream",
     "text": [
      "(43200, 5)\n",
      "(43200, 5)\n",
      "(27600, 5)\n",
      "(27600, 5)\n",
      "(20736, 5)\n"
     ]
    }
   ],
   "source": [
    "for i in range(5):\n",
    "    l = fkak[fkak[:,0] == i]\n",
    "    print(l.shape)"
   ]
  },
  {
   "cell_type": "code",
   "execution_count": 63,
   "metadata": {},
   "outputs": [],
   "source": [
    "flol = f2[f2[:, -1] == 0]"
   ]
  },
  {
   "cell_type": "code",
   "execution_count": 65,
   "metadata": {},
   "outputs": [
    {
     "data": {
      "text/plain": [
       "(36432, 9)"
      ]
     },
     "execution_count": 65,
     "metadata": {},
     "output_type": "execute_result"
    }
   ],
   "source": [
    "flol.shape"
   ]
  }
 ],
 "metadata": {
  "kernelspec": {
   "display_name": "base",
   "language": "python",
   "name": "python3"
  },
  "language_info": {
   "codemirror_mode": {
    "name": "ipython",
    "version": 3
   },
   "file_extension": ".py",
   "mimetype": "text/x-python",
   "name": "python",
   "nbconvert_exporter": "python",
   "pygments_lexer": "ipython3",
   "version": "3.10.9"
  },
  "orig_nbformat": 4
 },
 "nbformat": 4,
 "nbformat_minor": 2
}
