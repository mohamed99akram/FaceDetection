{
 "cells": [
  {
   "cell_type": "code",
   "execution_count": 66,
   "metadata": {},
   "outputs": [],
   "source": [
    "import numpy as np\n",
    "from matplotlib import pyplot as plt\n",
    "import time\n",
    "import torch\n",
    "from torch.utils.data import Dataset\n",
    "from torch.utils.data import DataLoader\n"
   ]
  },
  {
   "cell_type": "code",
   "execution_count": 67,
   "metadata": {},
   "outputs": [],
   "source": [
    "class Rect():\n",
    "    def __init__(self, xs, ys, xe, ye):\n",
    "        self.xs = xs # x start\n",
    "        self.ys = ys # y start\n",
    "        self.xe = xe # x end\n",
    "        self.ye = ye # y end\n",
    "\n",
    "    def __array__(self):\n",
    "        return np.array([self.xs, self.ys, self.xe, self.ye])\n"
   ]
  },
  {
   "cell_type": "code",
   "execution_count": 68,
   "metadata": {},
   "outputs": [
    {
     "data": {
      "text/plain": [
       "array([[1, 2, 3, 4, 5, 6, 1]])"
      ]
     },
     "execution_count": 68,
     "metadata": {},
     "output_type": "execute_result"
    }
   ],
   "source": [
    "np.array([(*np.array([1,2,3]), *np.array([4,5,6]),1)])"
   ]
  },
  {
   "cell_type": "code",
   "execution_count": 160,
   "metadata": {},
   "outputs": [],
   "source": [
    "def describe_features(shape):\n",
    "    rect2 = []\n",
    "    rect3 = []\n",
    "    rect4 = []\n",
    "    height, width = shape\n",
    "    cnt = 0\n",
    "    for i in range(height+1):\n",
    "        for j in range(width+1):\n",
    "            for k in range(1, height+1):\n",
    "                for l in range(1, width+1):\n",
    "                    cnt += 1\n",
    "                    # @ 2 features\n",
    "                    # Horizontal [-][+]\n",
    "                    if i + k <= height and j + 2 * l <= width:\n",
    "                        # start positive i, start positive j, end positive i, end positive j\n",
    "                        rect_p = Rect(i, j + l, i + k, j + 2 * l)\n",
    "                        # start negative i, start negative j, end negative i, end negative j\n",
    "                        rect_n = Rect(i, j, i + k, j + l)\n",
    "                        rect2.append(\n",
    "                            # (np.array(rect_p), np.array(rect_n)))\n",
    "                            (*np.array(rect_p), *np.array(rect_n), 0))\n",
    "\n",
    "                    # Vertical #+\n",
    "                        # -\n",
    "                    if i + 2 * k <= height and j + l <= width:\n",
    "                        rect_p = Rect(i, j, i + k, j + l)\n",
    "                        rect_n = Rect(i + k, j, i + 2 * k, j + l)\n",
    "                        rect2.append(\n",
    "                            (*np.array(rect_p), *np.array(rect_n), 1))\n",
    "\n",
    "                    # @ 3 features\n",
    "                    # Horizontal [-][+][-]\n",
    "                    if i + k <= height and j + 3 * l <= width:\n",
    "                        rect_n1 = Rect(i, j, i + k, j + l)\n",
    "                        rect_p = Rect(i, j + l, i + k, j + 2 * l)\n",
    "                        rect_n2 = Rect(i, j + 2 * l, i + k, j + 3 * l)\n",
    "                        rect3.append(\n",
    "                            (*np.array(rect_n1), *np.array(rect_p), *np.array(rect_n2), 2))\n",
    "\n",
    "                    # Vertical #-\n",
    "                        # +\n",
    "                        # -\n",
    "                    if i + 3 * k <= height and j + l <= width:\n",
    "                        rect_n1 = Rect(i, j, i + k, j + l)\n",
    "                        rect_p = Rect(i + k, j, i + 2 * k, j + l)\n",
    "                        rect_n2 = Rect(i + 2 * k, j, i + 3 * k, j + l)\n",
    "                        rect3.append((*np.array(rect_n1),*np.array(rect_p),*np.array(rect_n2), 3))\n",
    "\n",
    "                    # @ 4 features\n",
    "                    # [-][+]\n",
    "                    # [+][-]\n",
    "                    if i + 2 * k <= height and j + 2 * l <= width:\n",
    "                        rect_n1 = Rect(i, j, i + k, j + l)\n",
    "                        rect_p = Rect(i, j + l, i + k, j + 2 * l)\n",
    "                        rect_p2 = Rect(i + k, j, i + 2 * k, j + l)\n",
    "                        rect_n2 = Rect(i + k, j + l, i + 2 * k, j + 2 * l)\n",
    "                        rect4.append((*np.array(rect_n1),*np.array(rect_p),*np.array(rect_p2),*np.array(rect_n2), 4))\n",
    "    return np.array(rect2), np.array(rect3), np.array(rect4), cnt\n"
   ]
  },
  {
   "cell_type": "code",
   "execution_count": 161,
   "metadata": {},
   "outputs": [
    {
     "name": "stdout",
     "output_type": "stream",
     "text": [
      "CPU times: user 5 µs, sys: 0 ns, total: 5 µs\n",
      "Wall time: 9.06 µs\n"
     ]
    }
   ],
   "source": [
    "%time\n",
    "f2, f3, f4, c= describe_features((24,24))"
   ]
  },
  {
   "cell_type": "code",
   "execution_count": 162,
   "metadata": {},
   "outputs": [
    {
     "name": "stdout",
     "output_type": "stream",
     "text": [
      "(86400, 9)\n",
      "(55200, 13)\n",
      "(20736, 17)\n",
      "162336\n",
      "360000\n"
     ]
    }
   ],
   "source": [
    "print(f2.shape)\n",
    "print(f3.shape)\n",
    "print(f4.shape)\n",
    "print(f2.shape[0] + f3.shape[0] + f4.shape[0])\n",
    "print(c)"
   ]
  },
  {
   "attachments": {},
   "cell_type": "markdown",
   "metadata": {},
   "source": [
    "# Comparison"
   ]
  },
  {
   "cell_type": "code",
   "execution_count": 163,
   "metadata": {},
   "outputs": [],
   "source": [
    "fkak = np.load('/home/akram/CMP4/GP/Try/ft.npy')\n",
    "# fkak = np.load('/home/akram/CMP4/GP/Try/f5.npy')"
   ]
  },
  {
   "cell_type": "code",
   "execution_count": 164,
   "metadata": {},
   "outputs": [
    {
     "data": {
      "text/plain": [
       "(162336, 5)"
      ]
     },
     "execution_count": 164,
     "metadata": {},
     "output_type": "execute_result"
    }
   ],
   "source": [
    "fkak.shape"
   ]
  },
  {
   "attachments": {},
   "cell_type": "markdown",
   "metadata": {},
   "source": [
    "# feature 2 - Horizontal"
   ]
  },
  {
   "cell_type": "code",
   "execution_count": 155,
   "metadata": {},
   "outputs": [
    {
     "name": "stdout",
     "output_type": "stream",
     "text": [
      "216000  true out of  216000\n",
      "(43200, 5)\n",
      "(43200, 5)\n"
     ]
    }
   ],
   "source": [
    "f22 = f2[f2[:, -1] == 0]\n",
    "f22 = np.stack((np.zeros(len(f22)), f22[:,5],f22[:,0], f22[:,3] - f22[:,5], f22[:,2] - f22[:,0]), axis=1)\n",
    "fk2 = fkak[fkak[:,0] == 0]\n",
    "f22 = f22[np.lexsort((f22[:,4],f22[:,3],f22[:,2], f22[:, 1], f22[:, 0]))]\n",
    "fk2 = fk2[np.lexsort((fk2[:,4],fk2[:,3],fk2[:,2], fk2[:, 1], fk2[:, 0]))]\n",
    "print(np.sum(f22 == fk2), ' true out of ', f22.size)\n",
    "print(f22.shape)\n",
    "print(fk2.shape)\n"
   ]
  },
  {
   "attachments": {},
   "cell_type": "markdown",
   "metadata": {},
   "source": [
    "# Feature 2 - Vertical"
   ]
  },
  {
   "cell_type": "code",
   "execution_count": 157,
   "metadata": {},
   "outputs": [
    {
     "name": "stdout",
     "output_type": "stream",
     "text": [
      "216000  true out of  216000\n",
      "(43200, 5)\n",
      "(43200, 5)\n"
     ]
    }
   ],
   "source": [
    "f22 = f2[f2[:, -1] == 1]\n",
    "f22 = np.stack((np.ones(len(f22)), f22[:,1],f22[:,0], f22[:,3] - f22[:,1], f22[:,6] - f22[:,0]), axis=1)\n",
    "fk2 = fkak[fkak[:,0] == 1]\n",
    "f22 = f22[np.lexsort((f22[:,4],f22[:,3],f22[:,2], f22[:, 1], f22[:, 0]))]\n",
    "fk2 = fk2[np.lexsort((fk2[:,4],fk2[:,3],fk2[:,2], fk2[:, 1], fk2[:, 0]))]\n",
    "print(np.sum(f22 == fk2), ' true out of ', f22.size)\n",
    "print(f22.shape)\n",
    "print(fk2.shape)\n"
   ]
  },
  {
   "attachments": {},
   "cell_type": "markdown",
   "metadata": {},
   "source": [
    "# Feature 3 - Horizontal"
   ]
  },
  {
   "cell_type": "code",
   "execution_count": 167,
   "metadata": {},
   "outputs": [
    {
     "name": "stdout",
     "output_type": "stream",
     "text": [
      "138000  true out of  138000\n",
      "(27600, 5)\n",
      "(27600, 5)\n"
     ]
    }
   ],
   "source": [
    "idx = 2\n",
    "cur_f = f3\n",
    "f22 = cur_f[cur_f[:, -1] == idx]\n",
    "f22 = np.stack((np.repeat(idx,len(f22)), f22[:,1],f22[:,0], f22[:,11] - f22[:,1], f22[:,10] - f22[:,0]), axis=1)\n",
    "fk2 = fkak[fkak[:,0] == idx]\n",
    "f22 = f22[np.lexsort((f22[:,4],f22[:,3],f22[:,2], f22[:, 1], f22[:, 0]))]\n",
    "fk2 = fk2[np.lexsort((fk2[:,4],fk2[:,3],fk2[:,2], fk2[:, 1], fk2[:, 0]))]\n",
    "print(np.sum(f22 == fk2), ' true out of ', f22.size)\n",
    "print(f22.shape)\n",
    "print(fk2.shape)\n"
   ]
  },
  {
   "attachments": {},
   "cell_type": "markdown",
   "metadata": {},
   "source": [
    "# Feature 3 - Vertical"
   ]
  },
  {
   "cell_type": "code",
   "execution_count": 168,
   "metadata": {},
   "outputs": [
    {
     "name": "stdout",
     "output_type": "stream",
     "text": [
      "138000  true out of  138000\n",
      "(27600, 5)\n",
      "(27600, 5)\n"
     ]
    }
   ],
   "source": [
    "idx = 3\n",
    "cur_f = f3\n",
    "f22 = cur_f[cur_f[:, -1] == idx]\n",
    "f22 = np.stack((np.repeat(idx,len(f22)), f22[:,1],f22[:,0], f22[:,3] - f22[:,1], f22[:,10] - f22[:,0]), axis=1)\n",
    "fk2 = fkak[fkak[:,0] == idx]\n",
    "f22 = f22[np.lexsort((f22[:,4],f22[:,3],f22[:,2], f22[:, 1], f22[:, 0]))]\n",
    "fk2 = fk2[np.lexsort((fk2[:,4],fk2[:,3],fk2[:,2], fk2[:, 1], fk2[:, 0]))]\n",
    "print(np.sum(f22 == fk2), ' true out of ', f22.size)\n",
    "print(f22.shape)\n",
    "print(fk2.shape)\n"
   ]
  },
  {
   "attachments": {},
   "cell_type": "markdown",
   "metadata": {},
   "source": [
    "# Feature 4"
   ]
  },
  {
   "cell_type": "code",
   "execution_count": 170,
   "metadata": {},
   "outputs": [
    {
     "name": "stdout",
     "output_type": "stream",
     "text": [
      "103680  true out of  103680\n",
      "(20736, 5)\n",
      "(20736, 5)\n"
     ]
    }
   ],
   "source": [
    "idx = 4\n",
    "cur_f = f4\n",
    "f22 = cur_f[cur_f[:, -1] == idx]\n",
    "f22 = np.stack((np.repeat(idx,len(f22)), f22[:,1],f22[:,0], f22[:,7] - f22[:,1], f22[:,10] - f22[:,0]), axis=1)\n",
    "fk2 = fkak[fkak[:,0] == idx]\n",
    "f22 = f22[np.lexsort((f22[:,4],f22[:,3],f22[:,2], f22[:, 1], f22[:, 0]))]\n",
    "fk2 = fk2[np.lexsort((fk2[:,4],fk2[:,3],fk2[:,2], fk2[:, 1], fk2[:, 0]))]\n",
    "print(np.sum(f22 == fk2), ' true out of ', f22.size)\n",
    "print(f22.shape)\n",
    "print(fk2.shape)"
   ]
  },
  {
   "cell_type": "code",
   "execution_count": null,
   "metadata": {},
   "outputs": [],
   "source": []
  }
 ],
 "metadata": {
  "kernelspec": {
   "display_name": "base",
   "language": "python",
   "name": "python3"
  },
  "language_info": {
   "codemirror_mode": {
    "name": "ipython",
    "version": 3
   },
   "file_extension": ".py",
   "mimetype": "text/x-python",
   "name": "python",
   "nbconvert_exporter": "python",
   "pygments_lexer": "ipython3",
   "version": "3.10.9"
  },
  "orig_nbformat": 4
 },
 "nbformat": 4,
 "nbformat_minor": 2
}
