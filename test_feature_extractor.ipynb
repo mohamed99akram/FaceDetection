{
 "cells": [
  {
   "cell_type": "code",
   "execution_count": 2,
   "metadata": {},
   "outputs": [],
   "source": [
    "from feature_extractor import FeatureExtractor\n",
    "import torch\n",
    "import numpy as np\n",
    "import time\n"
   ]
  },
  {
   "cell_type": "code",
   "execution_count": 3,
   "metadata": {},
   "outputs": [
    {
     "data": {
      "text/plain": [
       "True"
      ]
     },
     "execution_count": 3,
     "metadata": {},
     "output_type": "execute_result"
    }
   ],
   "source": [
    "torch.cuda.is_available()"
   ]
  },
  {
   "cell_type": "code",
   "execution_count": 4,
   "metadata": {},
   "outputs": [],
   "source": [
    "\n",
    "feature_extractor = FeatureExtractor(shape=(19,19), percentile=None)\n"
   ]
  },
  {
   "cell_type": "code",
   "execution_count": 5,
   "metadata": {},
   "outputs": [],
   "source": [
    "del feature_extractor.f2\n",
    "del feature_extractor.f3\n",
    "del feature_extractor.f4"
   ]
  },
  {
   "cell_type": "code",
   "execution_count": null,
   "metadata": {},
   "outputs": [],
   "source": [
    "\n",
    "_, _, _, _= feature_extractor.extractFeatures(pos_path='face.train/train/face', \n",
    "                                  neg_path='face.train/train/non-face', \n",
    "                                  saveAllto='all_features2.npz', \n",
    "                                  saveYto='all_labels2.npy',)\n",
    "                                #   saveIndeciesto='all_indecies2.npz',\n",
    "                                #   saveSelectedto='selected_features2.npz',)\n",
    "print('done')\n"
   ]
  },
  {
   "cell_type": "code",
   "execution_count": 6,
   "metadata": {},
   "outputs": [
    {
     "name": "stdout",
     "output_type": "stream",
     "text": [
      "done\n"
     ]
    }
   ],
   "source": [
    "_, _ = feature_extractor.selectPercentile(percentile=10, \n",
    "                                          X_file='all_features2.npz',\n",
    "                                          y_file='all_labels2.npy', \n",
    "                                          saveFeaturesTo='selected_features2.npz', \n",
    "                                          saveIndeciesTo='all_indecies2.npy')\n",
    "print('done')\n"
   ]
  },
  {
   "cell_type": "code",
   "execution_count": 8,
   "metadata": {},
   "outputs": [
    {
     "data": {
      "text/plain": [
       "True"
      ]
     },
     "execution_count": 8,
     "metadata": {},
     "output_type": "execute_result"
    }
   ],
   "source": [
    "a1 = np.load('all_features2.npz')\n",
    "a2 = np.load('all_features.npz')\n",
    "\n",
    "# check both are the same\n",
    "np.all(a1['arr_0'] == a2['arr_0'])"
   ]
  },
  {
   "cell_type": "code",
   "execution_count": 9,
   "metadata": {},
   "outputs": [
    {
     "data": {
      "text/plain": [
       "True"
      ]
     },
     "execution_count": 9,
     "metadata": {},
     "output_type": "execute_result"
    }
   ],
   "source": [
    "a1 = np.load('all_labels2.npy')\n",
    "a2 = np.load('labels.npy')\n",
    "\n",
    "# check both are the same\n",
    "np.all(a1 == a2)\n"
   ]
  },
  {
   "cell_type": "code",
   "execution_count": 12,
   "metadata": {},
   "outputs": [
    {
     "data": {
      "text/plain": [
       "True"
      ]
     },
     "execution_count": 12,
     "metadata": {},
     "output_type": "execute_result"
    }
   ],
   "source": [
    "a1 = np.load('all_indecies2.npz.npy')\n",
    "a2 = np.load('indecies.npy')\n",
    "\n",
    "# check both are the same\n",
    "np.all(a1 == a2)\n",
    "\n"
   ]
  },
  {
   "cell_type": "code",
   "execution_count": 13,
   "metadata": {},
   "outputs": [
    {
     "data": {
      "text/plain": [
       "True"
      ]
     },
     "execution_count": 13,
     "metadata": {},
     "output_type": "execute_result"
    }
   ],
   "source": [
    "a1 = np.load('selected_features2.npz')\n",
    "a2 = np.load('all_features_10.npz')\n",
    "\n",
    "# check both are the same\n",
    "np.all(a1['arr_0'] == a2['arr_0'])\n",
    "\n"
   ]
  },
  {
   "cell_type": "code",
   "execution_count": null,
   "metadata": {},
   "outputs": [],
   "source": []
  }
 ],
 "metadata": {
  "kernelspec": {
   "display_name": "base",
   "language": "python",
   "name": "python3"
  },
  "language_info": {
   "codemirror_mode": {
    "name": "ipython",
    "version": 3
   },
   "file_extension": ".py",
   "mimetype": "text/x-python",
   "name": "python",
   "nbconvert_exporter": "python",
   "pygments_lexer": "ipython3",
   "version": "3.10.9"
  },
  "orig_nbformat": 4
 },
 "nbformat": 4,
 "nbformat_minor": 2
}
